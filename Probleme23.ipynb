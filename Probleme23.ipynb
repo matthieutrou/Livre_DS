{
 "cells": [
  {
   "cell_type": "markdown",
   "metadata": {},
   "source": [
    "# Etape 1"
   ]
  },
  {
   "cell_type": "markdown",
   "metadata": {},
   "source": [
    "#### Lecture et traitement du jeu de données"
   ]
  },
  {
   "cell_type": "code",
   "execution_count": 4,
   "metadata": {},
   "outputs": [
    {
     "data": {
      "text/html": [
       "<div>\n",
       "<style scoped>\n",
       "    .dataframe tbody tr th:only-of-type {\n",
       "        vertical-align: middle;\n",
       "    }\n",
       "\n",
       "    .dataframe tbody tr th {\n",
       "        vertical-align: top;\n",
       "    }\n",
       "\n",
       "    .dataframe thead th {\n",
       "        text-align: right;\n",
       "    }\n",
       "</style>\n",
       "<table border=\"1\" class=\"dataframe\">\n",
       "  <thead>\n",
       "    <tr style=\"text-align: right;\">\n",
       "      <th></th>\n",
       "      <th>Date</th>\n",
       "      <th>DOM</th>\n",
       "      <th>EXT</th>\n",
       "      <th>BDOM</th>\n",
       "      <th>BEXT</th>\n",
       "    </tr>\n",
       "  </thead>\n",
       "  <tbody>\n",
       "    <tr>\n",
       "      <th>0</th>\n",
       "      <td>10/08/2018</td>\n",
       "      <td>Marseille</td>\n",
       "      <td>Toulouse</td>\n",
       "      <td>4</td>\n",
       "      <td>0</td>\n",
       "    </tr>\n",
       "    <tr>\n",
       "      <th>1</th>\n",
       "      <td>11/08/2018</td>\n",
       "      <td>Angers</td>\n",
       "      <td>Nimes</td>\n",
       "      <td>3</td>\n",
       "      <td>4</td>\n",
       "    </tr>\n",
       "    <tr>\n",
       "      <th>2</th>\n",
       "      <td>11/08/2018</td>\n",
       "      <td>Lille</td>\n",
       "      <td>Rennes</td>\n",
       "      <td>3</td>\n",
       "      <td>1</td>\n",
       "    </tr>\n",
       "    <tr>\n",
       "      <th>3</th>\n",
       "      <td>11/08/2018</td>\n",
       "      <td>Montpellier</td>\n",
       "      <td>Dijon</td>\n",
       "      <td>1</td>\n",
       "      <td>2</td>\n",
       "    </tr>\n",
       "    <tr>\n",
       "      <th>4</th>\n",
       "      <td>11/08/2018</td>\n",
       "      <td>Nantes</td>\n",
       "      <td>Monaco</td>\n",
       "      <td>1</td>\n",
       "      <td>3</td>\n",
       "    </tr>\n",
       "  </tbody>\n",
       "</table>\n",
       "</div>"
      ],
      "text/plain": [
       "         Date          DOM       EXT  BDOM  BEXT\n",
       "0  10/08/2018    Marseille  Toulouse     4     0\n",
       "1  11/08/2018       Angers     Nimes     3     4\n",
       "2  11/08/2018        Lille    Rennes     3     1\n",
       "3  11/08/2018  Montpellier     Dijon     1     2\n",
       "4  11/08/2018       Nantes    Monaco     1     3"
      ]
     },
     "execution_count": 4,
     "metadata": {},
     "output_type": "execute_result"
    }
   ],
   "source": [
    "import pylab as pl\n",
    "import pandas as pd\n",
    "\n",
    "T = pd.read_csv('./data/season-1819_csv.csv')\n",
    "\n",
    "col = ['Date', 'HomeTeam', 'AwayTeam', 'FTHG', 'FTAG']\n",
    "T = T[col]\n",
    "\n",
    "T.rename(columns = {'HomeTeam' : 'DOM', 'AwayTeam' : 'EXT', 'FTHG' : 'BDOM', 'FTAG' : 'BEXT'},\n",
    "         inplace = True)\n",
    "\n",
    "T.head()"
   ]
  },
  {
   "cell_type": "code",
   "execution_count": 5,
   "metadata": {},
   "outputs": [
    {
     "data": {
      "text/plain": [
       "380"
      ]
     },
     "execution_count": 5,
     "metadata": {},
     "output_type": "execute_result"
    }
   ],
   "source": [
    "len(T) #nombre de match joués en ligue 1"
   ]
  },
  {
   "cell_type": "markdown",
   "metadata": {},
   "source": [
    "#### Nombre de buts inscrits à domicile ou à l'extérieur"
   ]
  },
  {
   "cell_type": "code",
   "execution_count": 6,
   "metadata": {},
   "outputs": [
    {
     "data": {
      "text/plain": [
       "0     88\n",
       "1    127\n",
       "2     99\n",
       "3     43\n",
       "4     14\n",
       "5      8\n",
       "9      1\n",
       "Name: BDOM, dtype: int64"
      ]
     },
     "execution_count": 6,
     "metadata": {},
     "output_type": "execute_result"
    }
   ],
   "source": [
    "M = T['BDOM'].value_counts().sort_index()\n",
    "M"
   ]
  },
  {
   "cell_type": "markdown",
   "metadata": {},
   "source": [
    "- Il y a eu 88 matchs où l'équipe jouant à domcile n'a inscrit aucun but.\n",
    "- Il y a eu 127 matchs où l'équipe jouant à domicile a inscrit un seul but."
   ]
  },
  {
   "cell_type": "code",
   "execution_count": 22,
   "metadata": {},
   "outputs": [
    {
     "data": {
      "image/png": "[encoded data removed]",
      "text/plain": [
       "<Figure size 432x288 with 1 Axes>"
      ]
     },
     "metadata": {
      "needs_background": "light"
     },
     "output_type": "display_data"
    }
   ],
   "source": [
    "M.plot.bar(color = 'black')\n",
    "pl.xlabel('Buts par match')\n",
    "pl.xticks(range(10), rotation = 0);\n",
    "# Distribution en barre du nombre de buts par match inscrit par les équipes à domicile"
   ]
  },
  {
   "cell_type": "markdown",
   "metadata": {},
   "source": [
    "#### Modélisation du nombre de buts par match inscrits à domicile"
   ]
  },
  {
   "cell_type": "markdown",
   "metadata": {},
   "source": [
    "Choix du modèle :\n",
    "\n",
    "- On découpe la durée du match en 45 intervalles de 2 minutes chacune :\n",
    "\n",
    "##### On suppose que :\n",
    "- A chaque intervalle une équipe ne peut marquer qu'un seul but à la fois avec une probabilité p\n",
    "- l'apparition d'un but dans un intervalle est indépendante des autres intervalles\n",
    "\n",
    "- On note X la variable aléatoire qui pour un match donné, compte le nombre de buts inscrits par une équipe jouant à domicile."
   ]
  },
  {
   "cell_type": "code",
   "execution_count": 11,
   "metadata": {},
   "outputs": [
    {
     "data": {
      "text/plain": [
       "BDOM    1.471053\n",
       "BEXT    1.086842\n",
       "dtype: float64"
      ]
     },
     "execution_count": 11,
     "metadata": {},
     "output_type": "execute_result"
    }
   ],
   "source": [
    "m = T.mean()\n",
    "m"
   ]
  },
  {
   "cell_type": "markdown",
   "metadata": {},
   "source": [
    "- Le nombre moyen de buts inscrits par match à domicile est de 1,47"
   ]
  },
  {
   "cell_type": "code",
   "execution_count": 12,
   "metadata": {},
   "outputs": [
    {
     "data": {
      "text/plain": [
       "1.4710526315789474"
      ]
     },
     "execution_count": 12,
     "metadata": {},
     "output_type": "execute_result"
    }
   ],
   "source": [
    "m['BDOM']"
   ]
  },
  {
   "cell_type": "code",
   "execution_count": 13,
   "metadata": {},
   "outputs": [
    {
     "data": {
      "text/plain": [
       "1.0868421052631578"
      ]
     },
     "execution_count": 13,
     "metadata": {},
     "output_type": "execute_result"
    }
   ],
   "source": [
    "m['BEXT']"
   ]
  },
  {
   "cell_type": "markdown",
   "metadata": {},
   "source": [
    "- On peut avoir donc E[X] = 1,47 où E[X] est l'espérance de X"
   ]
  },
  {
   "cell_type": "markdown",
   "metadata": {},
   "source": [
    "- X suit une loi Binomiale où l'espérance = np\n",
    "\n",
    "Dans notre cas n = 45, on a donc 1.47 = 45p, donc p = 1,47/45"
   ]
  },
  {
   "cell_type": "code",
   "execution_count": 14,
   "metadata": {},
   "outputs": [
    {
     "data": {
      "text/plain": [
       "0.032690058479532165"
      ]
     },
     "execution_count": 14,
     "metadata": {},
     "output_type": "execute_result"
    }
   ],
   "source": [
    "m['BDOM']/45"
   ]
  },
  {
   "cell_type": "markdown",
   "metadata": {},
   "source": [
    "- p = 0.03"
   ]
  },
  {
   "cell_type": "markdown",
   "metadata": {},
   "source": [
    "#### Pertinence du modèle"
   ]
  },
  {
   "cell_type": "code",
   "execution_count": 19,
   "metadata": {},
   "outputs": [
    {
     "data": {
      "text/plain": [
       "[85.16044125864548,\n",
       " 129.5091530053391,\n",
       " 96.28822705154658,\n",
       " 46.641277505150406,\n",
       " 16.550449085090246,\n",
       " 4.58641850651327,\n",
       " 1.0333143683940675]"
      ]
     },
     "execution_count": 19,
     "metadata": {},
     "output_type": "execute_result"
    }
   ],
   "source": [
    "# X = binom(n,p) permet de définir X suivant une loi binomiale de paramètre n et p\n",
    "# X.pmf(k) renvoie P(X=k)\n",
    "\n",
    "# On veut que E soit la liste des effectifs attendus du nombre de buts inscrits sur 380 matchs\n",
    "\n",
    "from scipy.stats import binom\n",
    "\n",
    "X = binom(45, m['BDOM']/45)\n",
    "E = [380 * X.pmf(k) for k in range(7)]\n",
    "E"
   ]
  },
  {
   "cell_type": "code",
   "execution_count": 24,
   "metadata": {},
   "outputs": [
    {
     "data": {
      "image/png": "[encoded data removed]",
      "text/plain": [
       "<Figure size 432x288 with 1 Axes>"
      ]
     },
     "metadata": {
      "needs_background": "light"
     },
     "output_type": "display_data"
    }
   ],
   "source": [
    "M.plot.bar(color = 'black')\n",
    "pl.bar(range(7), E, color = 'red', alpha = 0.5, label = 'Théorie')\n",
    "pl.xticks(range(10), rotation = 0)\n",
    "pl.xlabel('Buts par match')\n",
    "pl.legend(labels = ['Saison 2018/2019', 'Théorie']);"
   ]
  },
  {
   "cell_type": "markdown",
   "metadata": {},
   "source": [
    "- On voit bien que le modèle choisit est très pertinent"
   ]
  },
  {
   "cell_type": "markdown",
   "metadata": {},
   "source": [
    "####  Loi du nombre de buts inscrits par l'équipe jouant à l'extérieur"
   ]
  },
  {
   "cell_type": "markdown",
   "metadata": {},
   "source": [
    "On note Y la variable aléatoire qui compte le nombre de buts inscrits par l'équipe jouant à l'extérieur"
   ]
  },
  {
   "cell_type": "markdown",
   "metadata": {},
   "source": [
    "- On peut proposer une loi binomiale de paramètre n = 45 et p = 1.087/45 = 0.024"
   ]
  },
  {
   "cell_type": "code",
   "execution_count": 25,
   "metadata": {},
   "outputs": [
    {
     "data": {
      "text/plain": [
       "[126.46798425567751,\n",
       " 140.85260906045798,\n",
       " 76.69364211202125,\n",
       " 27.20685544170944,\n",
       " 7.070325919756212,\n",
       " 1.4349113537392095,\n",
       " 0.23675851025520794]"
      ]
     },
     "execution_count": 25,
     "metadata": {},
     "output_type": "execute_result"
    }
   ],
   "source": [
    "from scipy.stats import binom\n",
    "\n",
    "Y = binom(45, m['BEXT']/45)\n",
    "F = [380 * Y.pmf(k) for k in range(7)]\n",
    "F"
   ]
  },
  {
   "cell_type": "code",
   "execution_count": 26,
   "metadata": {},
   "outputs": [
    {
     "data": {
      "text/plain": [
       "0    135\n",
       "1    135\n",
       "2     68\n",
       "3     29\n",
       "4     10\n",
       "5      3\n",
       "Name: BEXT, dtype: int64"
      ]
     },
     "execution_count": 26,
     "metadata": {},
     "output_type": "execute_result"
    }
   ],
   "source": [
    "N = T['BEXT'].value_counts().sort_index()\n",
    "N"
   ]
  },
  {
   "cell_type": "code",
   "execution_count": 27,
   "metadata": {},
   "outputs": [
    {
     "data": {
      "image/png": "[encoded data removed]",
      "text/plain": [
       "<Figure size 432x288 with 1 Axes>"
      ]
     },
     "metadata": {
      "needs_background": "light"
     },
     "output_type": "display_data"
    }
   ],
   "source": [
    "N.plot.bar(color = 'black')\n",
    "pl.bar(range(7), F, color = 'red', alpha = 0.5, label = 'Théorie')\n",
    "pl.xticks(range(10), rotation = 0)\n",
    "pl.xlabel('Buts par match')\n",
    "pl.legend(labels = ['Saison 2018/2019', 'Théorie']);"
   ]
  },
  {
   "cell_type": "markdown",
   "metadata": {},
   "source": [
    "# Etape 2 "
   ]
  },
  {
   "cell_type": "markdown",
   "metadata": {},
   "source": [
    "##### Choix du modèle :\n",
    "\n",
    "- A partir des statistiques des 2 équipes, on modélise :\n",
    "\n",
    "- le nombre de buts inscrits par Marseille par une variable aléatoire X\n",
    "- le nombre de buts inscrits par Toulouse par une variable aléatoire Y\n",
    "\n",
    "##### On suppose que :\n",
    "\n",
    "- X suit une loi binomiale de paramètres n = 45 et pdom\n",
    "- Y suit une loi binomiale de paramètres n = 45 et pext\n",
    "\n",
    "##### Objectif\n",
    "\n",
    "Estimons alors les valeurs pdom et pext à partir des calculs de moyennes de buts par match :\n",
    "\n",
    "- inscrits par Marseille et Toulouse \n",
    "- concédés par Marseille et Toulouse"
   ]
  },
  {
   "cell_type": "markdown",
   "metadata": {},
   "source": [
    "#### Performance d'attaque et de défense de Marseille"
   ]
  },
  {
   "cell_type": "markdown",
   "metadata": {},
   "source": [
    "- La performance d'attaque de Marseille est (nb moyen de buts de Marseille à dom) / (nb moyen de buts inscrits en L1 à dom)\n",
    "\n",
    "- La performance défensive de Marseille est (nb moyen de buts concédés Marseille à dom) / (nb moyen de buts concédés en L1 à dom)"
   ]
  },
  {
   "cell_type": "code",
   "execution_count": 28,
   "metadata": {},
   "outputs": [
    {
     "data": {
      "text/plain": [
       "BDOM    1.631579\n",
       "BEXT    0.894737\n",
       "dtype: float64"
      ]
     },
     "execution_count": 28,
     "metadata": {},
     "output_type": "execute_result"
    }
   ],
   "source": [
    "TD = T.query('DOM == \"Marseille\"').mean()\n",
    "TD"
   ]
  },
  {
   "cell_type": "markdown",
   "metadata": {},
   "source": [
    "- Marseille inscrit environ 1.63 but à Domicile et en concède 0.89"
   ]
  },
  {
   "cell_type": "code",
   "execution_count": 30,
   "metadata": {},
   "outputs": [
    {
     "data": {
      "text/plain": [
       "1.10912343470483"
      ]
     },
     "execution_count": 30,
     "metadata": {},
     "output_type": "execute_result"
    }
   ],
   "source": [
    "#On pose PerfAOM la performance d'attaque de Marseille\n",
    "PerfAOM = TD['BDOM']/m['BDOM']\n",
    "PerfAOM"
   ]
  },
  {
   "cell_type": "markdown",
   "metadata": {},
   "source": [
    "- En moyenne, par rapport aux équipes jouant à domicile, Marseille inscrit 10,9% de buts en plus\n",
    "- Par rapport à la moyenne, c'est une équipe plus offensive."
   ]
  },
  {
   "cell_type": "code",
   "execution_count": 31,
   "metadata": {},
   "outputs": [
    {
     "data": {
      "text/plain": [
       "0.8232445520581114"
      ]
     },
     "execution_count": 31,
     "metadata": {},
     "output_type": "execute_result"
    }
   ],
   "source": [
    "PerfDOM = TD['BEXT']/m['BEXT']\n",
    "PerfDOM"
   ]
  },
  {
   "cell_type": "markdown",
   "metadata": {},
   "source": [
    "- En moyenne, par rapport aux équipes jouant à domicile, Marseille encaisse 17,7% de buts en plus\n",
    "- Par rapport à la moyenne, c'est une équipe moins défensive."
   ]
  },
  {
   "cell_type": "markdown",
   "metadata": {},
   "source": [
    "#### Performance d'attaque et de défense de Toulouse"
   ]
  },
  {
   "cell_type": "code",
   "execution_count": 32,
   "metadata": {},
   "outputs": [
    {
     "data": {
      "text/plain": [
       "BDOM    1.631579\n",
       "BEXT    0.789474\n",
       "dtype: float64"
      ]
     },
     "execution_count": 32,
     "metadata": {},
     "output_type": "execute_result"
    }
   ],
   "source": [
    "TE = T.query('EXT==\"Toulouse\"').mean()\n",
    "TE"
   ]
  },
  {
   "cell_type": "markdown",
   "metadata": {},
   "source": [
    "- Toulouse inscrit environ 0.78 but à l'extérieur et en concède 1.63"
   ]
  },
  {
   "cell_type": "code",
   "execution_count": 33,
   "metadata": {},
   "outputs": [
    {
     "data": {
      "text/plain": [
       "1.10912343470483"
      ]
     },
     "execution_count": 33,
     "metadata": {},
     "output_type": "execute_result"
    }
   ],
   "source": [
    "PerfDTFC = TE['BDOM']/m['BDOM']\n",
    "PerfDTFC"
   ]
  },
  {
   "cell_type": "code",
   "execution_count": 34,
   "metadata": {},
   "outputs": [
    {
     "data": {
      "text/plain": [
       "0.7263922518159807"
      ]
     },
     "execution_count": 34,
     "metadata": {},
     "output_type": "execute_result"
    }
   ],
   "source": [
    "PerfATFC = TE['BEXT']/m['BEXT']\n",
    "PerfATFC"
   ]
  },
  {
   "cell_type": "markdown",
   "metadata": {},
   "source": [
    "- Toulouse a une moins bonne performance d'attaque et de défense que Marseille"
   ]
  },
  {
   "cell_type": "markdown",
   "metadata": {},
   "source": [
    "#### Estimations des espérances de X et de Y pour le match Marseille - Toulouse"
   ]
  },
  {
   "cell_type": "markdown",
   "metadata": {},
   "source": [
    "- On estime que E[X] = Attaque Marseille * Défense Toulouse * Nb moyen de buts à domicile\n",
    "\n",
    "- On estime que E[Y] = Attaque Toulouse * Défense Marseille * Nb moyen de buts à extérieur"
   ]
  },
  {
   "cell_type": "code",
   "execution_count": 37,
   "metadata": {},
   "outputs": [
    {
     "name": "stdout",
     "output_type": "stream",
     "text": [
      "1.809622446097354\n",
      "0.6499299095195616\n"
     ]
    }
   ],
   "source": [
    "# Ces calculs sont employés par les bookmakers au départ et peuvent être affinés \n",
    "# par des modèles statistiques plus performants.\n",
    "\n",
    "EspX = PerfAOM*PerfDTFC*m['BDOM']\n",
    "print(EspX)\n",
    "EspY = PerfATFC*PerfDOM*m['BEXT']\n",
    "print(EspY)"
   ]
  },
  {
   "cell_type": "code",
   "execution_count": 42,
   "metadata": {},
   "outputs": [],
   "source": [
    "def Esp(e1, e2):\n",
    "    TD = T.query('DOM == @e1').mean()\n",
    "    TE = T.query('EXT == @e2').mean()\n",
    "    EX = TD['BDOM'] * TE['BDOM'] / m['BDOM']\n",
    "    EY = TE['BEXT'] * TD['BEXT'] / m['BEXT']\n",
    "    \n",
    "    return EX, EY"
   ]
  },
  {
   "cell_type": "code",
   "execution_count": 43,
   "metadata": {},
   "outputs": [
    {
     "data": {
      "text/plain": [
       "(1.809622446097354, 0.6499299095195616)"
      ]
     },
     "execution_count": 43,
     "metadata": {},
     "output_type": "execute_result"
    }
   ],
   "source": [
    "Esp('Marseille', 'Toulouse')"
   ]
  },
  {
   "cell_type": "markdown",
   "metadata": {},
   "source": [
    "#### Calculer la probabilité d'avoir un match nul entre ces deux équipes"
   ]
  },
  {
   "cell_type": "markdown",
   "metadata": {},
   "source": [
    "- X suit une loi binomiale de paramètre n=45 et pDOM.\n",
    "\n",
    "On sait désormais que pDOM = E[X]/45\n",
    "\n",
    "- Y suit une loi binomiale de paramètre n=45 et pEXT.\n",
    "\n",
    "On sait désormais que pEXT = E[Y]/45"
   ]
  },
  {
   "cell_type": "code",
   "execution_count": 45,
   "metadata": {},
   "outputs": [
    {
     "name": "stdout",
     "output_type": "stream",
     "text": [
      "0.04021383213549676\n",
      "0.01444288687821248\n"
     ]
    }
   ],
   "source": [
    "pDOM = EspX/45\n",
    "print(pDOM)\n",
    "pEXT = EspY/45\n",
    "print(pEXT)"
   ]
  },
  {
   "cell_type": "markdown",
   "metadata": {},
   "source": [
    "- On veut que X = Y"
   ]
  },
  {
   "cell_type": "code",
   "execution_count": 53,
   "metadata": {},
   "outputs": [
    {
     "name": "stdout",
     "output_type": "stream",
     "text": [
      "0.21820548533572837\n"
     ]
    }
   ],
   "source": [
    "X = binom(45, pDOM)\n",
    "Y = binom(45, pEXT)\n",
    "\n",
    "k=0\n",
    "somme=0\n",
    "for k in range(7):\n",
    "    somme += X.pmf(k)*Y.pmf(k)\n",
    "    \n",
    "print(somme)"
   ]
  },
  {
   "cell_type": "markdown",
   "metadata": {},
   "source": [
    "- Il y a donc 21,8% de chance d'avoir un match nul"
   ]
  },
  {
   "cell_type": "code",
   "execution_count": null,
   "metadata": {},
   "outputs": [],
   "source": []
  }
 ],
 "metadata": {
  "kernelspec": {
   "display_name": "Python 3",
   "language": "python",
   "name": "python3"
  },
  "language_info": {
   "codemirror_mode": {
    "name": "ipython",
    "version": 3
   },
   "file_extension": ".py",
   "mimetype": "text/x-python",
   "name": "python",
   "nbconvert_exporter": "python",
   "pygments_lexer": "ipython3",
   "version": "3.8.5"
  }
 },
 "nbformat": 4,
 "nbformat_minor": 4
}
