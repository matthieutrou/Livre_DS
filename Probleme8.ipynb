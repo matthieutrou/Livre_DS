{
 "cells": [
  {
   "cell_type": "markdown",
   "metadata": {},
   "source": [
    "# Le Benin, déclaration d'âges"
   ]
  },
  {
   "cell_type": "markdown",
   "metadata": {},
   "source": [
    "#### Préambule"
   ]
  },
  {
   "cell_type": "markdown",
   "metadata": {},
   "source": [
    "USAID est un organisme public Américain qui développe un programme nommé DHS, visant à collecter des données relatives à la démographie et la santé dans les pays en développement.\n",
    "\n",
    "Une enquête a été menée au Bénin auprès de femmes âgées de 15 à 49 ans.\n",
    "\n",
    "Le fichier 'Benin.csv' recense pour chaque femme interrogée:\n",
    "\n",
    "- L'année de naissance déclarée par celle-ci\n",
    "- Le numéro du mois de naissance déclaré par celle-ci\n",
    "- L'année durant laquelle elle a été interrogée\n",
    "- Le numéro du mois durant lequel elle a été interrogée\n",
    "- L'âge calculé à partir de sa déclaration"
   ]
  },
  {
   "cell_type": "markdown",
   "metadata": {},
   "source": [
    "#### Objectif :\n",
    "- Etudier la distribution des âges déclarés"
   ]
  },
  {
   "cell_type": "markdown",
   "metadata": {},
   "source": [
    "## Etape 1 : Data visualisation de la variable age"
   ]
  },
  {
   "cell_type": "code",
   "execution_count": 1,
   "metadata": {},
   "outputs": [
    {
     "data": {
      "text/html": [
       "<div>\n",
       "<style scoped>\n",
       "    .dataframe tbody tr th:only-of-type {\n",
       "        vertical-align: middle;\n",
       "    }\n",
       "\n",
       "    .dataframe tbody tr th {\n",
       "        vertical-align: top;\n",
       "    }\n",
       "\n",
       "    .dataframe thead th {\n",
       "        text-align: right;\n",
       "    }\n",
       "</style>\n",
       "<table border=\"1\" class=\"dataframe\">\n",
       "  <thead>\n",
       "    <tr style=\"text-align: right;\">\n",
       "      <th></th>\n",
       "      <th>m_interview</th>\n",
       "      <th>a_interview</th>\n",
       "      <th>m_naissance</th>\n",
       "      <th>a_naissance</th>\n",
       "      <th>age</th>\n",
       "      <th>etude</th>\n",
       "    </tr>\n",
       "  </thead>\n",
       "  <tbody>\n",
       "    <tr>\n",
       "      <th>0</th>\n",
       "      <td>10</td>\n",
       "      <td>2001</td>\n",
       "      <td>7</td>\n",
       "      <td>1976</td>\n",
       "      <td>25</td>\n",
       "      <td>0</td>\n",
       "    </tr>\n",
       "    <tr>\n",
       "      <th>1</th>\n",
       "      <td>10</td>\n",
       "      <td>2001</td>\n",
       "      <td>7</td>\n",
       "      <td>1976</td>\n",
       "      <td>25</td>\n",
       "      <td>0</td>\n",
       "    </tr>\n",
       "    <tr>\n",
       "      <th>2</th>\n",
       "      <td>10</td>\n",
       "      <td>2001</td>\n",
       "      <td>11</td>\n",
       "      <td>1964</td>\n",
       "      <td>36</td>\n",
       "      <td>0</td>\n",
       "    </tr>\n",
       "    <tr>\n",
       "      <th>3</th>\n",
       "      <td>10</td>\n",
       "      <td>2001</td>\n",
       "      <td>11</td>\n",
       "      <td>1964</td>\n",
       "      <td>36</td>\n",
       "      <td>0</td>\n",
       "    </tr>\n",
       "    <tr>\n",
       "      <th>4</th>\n",
       "      <td>10</td>\n",
       "      <td>2001</td>\n",
       "      <td>11</td>\n",
       "      <td>1964</td>\n",
       "      <td>36</td>\n",
       "      <td>0</td>\n",
       "    </tr>\n",
       "  </tbody>\n",
       "</table>\n",
       "</div>"
      ],
      "text/plain": [
       "   m_interview  a_interview  m_naissance  a_naissance  age  etude\n",
       "0           10         2001            7         1976   25      0\n",
       "1           10         2001            7         1976   25      0\n",
       "2           10         2001           11         1964   36      0\n",
       "3           10         2001           11         1964   36      0\n",
       "4           10         2001           11         1964   36      0"
      ]
     },
     "execution_count": 1,
     "metadata": {},
     "output_type": "execute_result"
    }
   ],
   "source": [
    "import pandas as pd\n",
    "import pylab as pl\n",
    "pl.style.use('bmh')\n",
    "\n",
    "T = pd.read_csv('data/Benin.csv')\n",
    "T.head()"
   ]
  },
  {
   "cell_type": "code",
   "execution_count": 9,
   "metadata": {},
   "outputs": [
    {
     "data": {
      "text/plain": [
       "35    1508\n",
       "40    1412\n",
       "30    1292\n",
       "45    1284\n",
       "25     988\n",
       "32     881\n",
       "38     868\n",
       "28     778\n",
       "48     651\n",
       "36     643\n",
       "42     641\n",
       "37     636\n",
       "33     587\n",
       "39     559\n",
       "41     541\n",
       "43     538\n",
       "27     516\n",
       "47     485\n",
       "26     484\n",
       "31     483\n",
       "46     419\n",
       "44     419\n",
       "29     416\n",
       "34     389\n",
       "22     335\n",
       "20     325\n",
       "49     321\n",
       "24     307\n",
       "23     277\n",
       "21     177\n",
       "18      94\n",
       "19      92\n",
       "17      26\n",
       "16      16\n",
       "15      10\n",
       "Name: age, dtype: int64"
      ]
     },
     "execution_count": 9,
     "metadata": {},
     "output_type": "execute_result"
    }
   ],
   "source": [
    "S = T['age'].value_counts()\n",
    "S"
   ]
  },
  {
   "cell_type": "code",
   "execution_count": 3,
   "metadata": {},
   "outputs": [
    {
     "data": {
      "text/plain": [
       "15      10\n",
       "16      16\n",
       "17      26\n",
       "18      94\n",
       "19      92\n",
       "20     325\n",
       "21     177\n",
       "22     335\n",
       "23     277\n",
       "24     307\n",
       "25     988\n",
       "26     484\n",
       "27     516\n",
       "28     778\n",
       "29     416\n",
       "30    1292\n",
       "31     483\n",
       "32     881\n",
       "33     587\n",
       "34     389\n",
       "35    1508\n",
       "36     643\n",
       "37     636\n",
       "38     868\n",
       "39     559\n",
       "40    1412\n",
       "41     541\n",
       "42     641\n",
       "43     538\n",
       "44     419\n",
       "45    1284\n",
       "46     419\n",
       "47     485\n",
       "48     651\n",
       "49     321\n",
       "Name: age, dtype: int64"
      ]
     },
     "execution_count": 3,
     "metadata": {},
     "output_type": "execute_result"
    }
   ],
   "source": [
    "S.sort_index()\n",
    "# On tri dans l'ordre croissant les âges de la population"
   ]
  },
  {
   "cell_type": "code",
   "execution_count": 4,
   "metadata": {},
   "outputs": [
    {
     "data": {
      "image/png": "[encoded data removed]",
      "text/plain": [
       "<Figure size 432x288 with 1 Axes>"
      ]
     },
     "metadata": {
      "needs_background": "light"
     },
     "output_type": "display_data"
    }
   ],
   "source": [
    "A = S.sort_index()\n",
    "A.plot(kind='bar')\n",
    "pl.show()"
   ]
  },
  {
   "cell_type": "markdown",
   "metadata": {},
   "source": [
    "On voit que la plupart des âges recencés sont des multiples de 5 (25, 30, 35, 40, 45)"
   ]
  },
  {
   "cell_type": "markdown",
   "metadata": {},
   "source": [
    "## Etape 2 : Effet des études"
   ]
  },
  {
   "cell_type": "markdown",
   "metadata": {},
   "source": [
    "La variable 'etude' concerne le niveau d'étude de la femme interrogée : \n",
    "\n",
    "- 0 = pas scolarisée\n",
    "- 1 = primaire\n",
    "- 2 = secondaire\n",
    "- 3 = universitaire"
   ]
  },
  {
   "cell_type": "markdown",
   "metadata": {},
   "source": [
    "#### Création d'une nouvelle variable nommée multiple"
   ]
  },
  {
   "cell_type": "code",
   "execution_count": 5,
   "metadata": {},
   "outputs": [],
   "source": [
    "def multiple_5(age):\n",
    "    if age%5 == 0:\n",
    "        return 1\n",
    "    else:\n",
    "        return 0"
   ]
  },
  {
   "cell_type": "code",
   "execution_count": 6,
   "metadata": {},
   "outputs": [
    {
     "data": {
      "text/html": [
       "<div>\n",
       "<style scoped>\n",
       "    .dataframe tbody tr th:only-of-type {\n",
       "        vertical-align: middle;\n",
       "    }\n",
       "\n",
       "    .dataframe tbody tr th {\n",
       "        vertical-align: top;\n",
       "    }\n",
       "\n",
       "    .dataframe thead th {\n",
       "        text-align: right;\n",
       "    }\n",
       "</style>\n",
       "<table border=\"1\" class=\"dataframe\">\n",
       "  <thead>\n",
       "    <tr style=\"text-align: right;\">\n",
       "      <th></th>\n",
       "      <th>m_interview</th>\n",
       "      <th>a_interview</th>\n",
       "      <th>m_naissance</th>\n",
       "      <th>a_naissance</th>\n",
       "      <th>age</th>\n",
       "      <th>etude</th>\n",
       "      <th>multiple</th>\n",
       "    </tr>\n",
       "  </thead>\n",
       "  <tbody>\n",
       "    <tr>\n",
       "      <th>0</th>\n",
       "      <td>10</td>\n",
       "      <td>2001</td>\n",
       "      <td>7</td>\n",
       "      <td>1976</td>\n",
       "      <td>25</td>\n",
       "      <td>0</td>\n",
       "      <td>1</td>\n",
       "    </tr>\n",
       "    <tr>\n",
       "      <th>1</th>\n",
       "      <td>10</td>\n",
       "      <td>2001</td>\n",
       "      <td>7</td>\n",
       "      <td>1976</td>\n",
       "      <td>25</td>\n",
       "      <td>0</td>\n",
       "      <td>1</td>\n",
       "    </tr>\n",
       "    <tr>\n",
       "      <th>2</th>\n",
       "      <td>10</td>\n",
       "      <td>2001</td>\n",
       "      <td>11</td>\n",
       "      <td>1964</td>\n",
       "      <td>36</td>\n",
       "      <td>0</td>\n",
       "      <td>0</td>\n",
       "    </tr>\n",
       "    <tr>\n",
       "      <th>3</th>\n",
       "      <td>10</td>\n",
       "      <td>2001</td>\n",
       "      <td>11</td>\n",
       "      <td>1964</td>\n",
       "      <td>36</td>\n",
       "      <td>0</td>\n",
       "      <td>0</td>\n",
       "    </tr>\n",
       "    <tr>\n",
       "      <th>4</th>\n",
       "      <td>10</td>\n",
       "      <td>2001</td>\n",
       "      <td>11</td>\n",
       "      <td>1964</td>\n",
       "      <td>36</td>\n",
       "      <td>0</td>\n",
       "      <td>0</td>\n",
       "    </tr>\n",
       "  </tbody>\n",
       "</table>\n",
       "</div>"
      ],
      "text/plain": [
       "   m_interview  a_interview  m_naissance  a_naissance  age  etude  multiple\n",
       "0           10         2001            7         1976   25      0         1\n",
       "1           10         2001            7         1976   25      0         1\n",
       "2           10         2001           11         1964   36      0         0\n",
       "3           10         2001           11         1964   36      0         0\n",
       "4           10         2001           11         1964   36      0         0"
      ]
     },
     "execution_count": 6,
     "metadata": {},
     "output_type": "execute_result"
    }
   ],
   "source": [
    "T['multiple'] = T['age'].apply(multiple_5)\n",
    "T.head()"
   ]
  },
  {
   "cell_type": "markdown",
   "metadata": {},
   "source": [
    "#### Regroupement des données"
   ]
  },
  {
   "cell_type": "code",
   "execution_count": 7,
   "metadata": {},
   "outputs": [
    {
     "data": {
      "text/plain": [
       "m_interview       9.234203\n",
       "a_interview    2001.000000\n",
       "m_naissance       6.595972\n",
       "a_naissance    1965.255728\n",
       "age              35.484846\n",
       "etude             0.000000\n",
       "multiple          0.368438\n",
       "dtype: float64"
      ]
     },
     "execution_count": 7,
     "metadata": {},
     "output_type": "execute_result"
    }
   ],
   "source": [
    "T.query('etude == 0').mean()"
   ]
  },
  {
   "cell_type": "markdown",
   "metadata": {},
   "source": [
    "Il y a environ 37% de femmes qui ont un âge égal à un multiple de 5 qui n'ont pas fait d'étude"
   ]
  },
  {
   "cell_type": "code",
   "execution_count": 8,
   "metadata": {},
   "outputs": [
    {
     "data": {
      "text/html": [
       "<div>\n",
       "<style scoped>\n",
       "    .dataframe tbody tr th:only-of-type {\n",
       "        vertical-align: middle;\n",
       "    }\n",
       "\n",
       "    .dataframe tbody tr th {\n",
       "        vertical-align: top;\n",
       "    }\n",
       "\n",
       "    .dataframe thead th {\n",
       "        text-align: right;\n",
       "    }\n",
       "</style>\n",
       "<table border=\"1\" class=\"dataframe\">\n",
       "  <thead>\n",
       "    <tr style=\"text-align: right;\">\n",
       "      <th></th>\n",
       "      <th>m_interview</th>\n",
       "      <th>a_interview</th>\n",
       "      <th>m_naissance</th>\n",
       "      <th>a_naissance</th>\n",
       "      <th>age</th>\n",
       "      <th>multiple</th>\n",
       "    </tr>\n",
       "    <tr>\n",
       "      <th>etude</th>\n",
       "      <th></th>\n",
       "      <th></th>\n",
       "      <th></th>\n",
       "      <th></th>\n",
       "      <th></th>\n",
       "      <th></th>\n",
       "    </tr>\n",
       "  </thead>\n",
       "  <tbody>\n",
       "    <tr>\n",
       "      <th>0</th>\n",
       "      <td>9.234203</td>\n",
       "      <td>2001.0</td>\n",
       "      <td>6.595972</td>\n",
       "      <td>1965.255728</td>\n",
       "      <td>35.484846</td>\n",
       "      <td>0.368438</td>\n",
       "    </tr>\n",
       "    <tr>\n",
       "      <th>1</th>\n",
       "      <td>9.182313</td>\n",
       "      <td>2001.0</td>\n",
       "      <td>6.622236</td>\n",
       "      <td>1966.696892</td>\n",
       "      <td>34.016021</td>\n",
       "      <td>0.298943</td>\n",
       "    </tr>\n",
       "    <tr>\n",
       "      <th>2</th>\n",
       "      <td>9.294450</td>\n",
       "      <td>2001.0</td>\n",
       "      <td>6.508937</td>\n",
       "      <td>1965.990593</td>\n",
       "      <td>34.790216</td>\n",
       "      <td>0.276576</td>\n",
       "    </tr>\n",
       "    <tr>\n",
       "      <th>3</th>\n",
       "      <td>9.579710</td>\n",
       "      <td>2001.0</td>\n",
       "      <td>6.405797</td>\n",
       "      <td>1959.304348</td>\n",
       "      <td>41.449275</td>\n",
       "      <td>0.173913</td>\n",
       "    </tr>\n",
       "  </tbody>\n",
       "</table>\n",
       "</div>"
      ],
      "text/plain": [
       "       m_interview  a_interview  m_naissance  a_naissance        age  multiple\n",
       "etude                                                                         \n",
       "0         9.234203       2001.0     6.595972  1965.255728  35.484846  0.368438\n",
       "1         9.182313       2001.0     6.622236  1966.696892  34.016021  0.298943\n",
       "2         9.294450       2001.0     6.508937  1965.990593  34.790216  0.276576\n",
       "3         9.579710       2001.0     6.405797  1959.304348  41.449275  0.173913"
      ]
     },
     "execution_count": 8,
     "metadata": {},
     "output_type": "execute_result"
    }
   ],
   "source": [
    "T.groupby('etude').mean()"
   ]
  },
  {
   "cell_type": "markdown",
   "metadata": {},
   "source": [
    "On voit que la fréquence de femmes ayant un âge égal à un multiple de 5 est la plus élevée dans la catégorie des femmes qui n'ont pas fait d'étude.\n",
    "Cependant un âge multiple de 5 n'indique pas spécialement le niveau d'étude de la femme.\n",
    "Elles ont juste 'arrondis' leurs âges"
   ]
  },
  {
   "cell_type": "code",
   "execution_count": null,
   "metadata": {},
   "outputs": [],
   "source": []
  }
 ],
 "metadata": {
  "kernelspec": {
   "display_name": "Python 3",
   "language": "python",
   "name": "python3"
  },
  "language_info": {
   "codemirror_mode": {
    "name": "ipython",
    "version": 3
   },
   "file_extension": ".py",
   "mimetype": "text/x-python",
   "name": "python",
   "nbconvert_exporter": "python",
   "pygments_lexer": "ipython3",
   "version": "3.8.5"
  }
 },
 "nbformat": 4,
 "nbformat_minor": 4
}
