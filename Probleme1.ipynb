{
 "cells": [
  {
   "cell_type": "markdown",
   "metadata": {},
   "source": [
    "# Roses de Nightingale"
   ]
  },
  {
   "cell_type": "markdown",
   "metadata": {},
   "source": [
    "#### Préambule"
   ]
  },
  {
   "cell_type": "markdown",
   "metadata": {},
   "source": [
    "- Commencée en 1853, la guerre de Crimée opposa la Russie à une coalition formée de l'Empire ottoman, du Royaume-Uni, de la France et du Royaume de Sardaigne.\n",
    "- Au cours de la guerre, beaucoup de soldats décédaient avant même de parvenir au front, dans les hôpitaux à cause des conditions sanitaires déplorables qui favorisaient le choléra, le typhus, la fièvre typhoîde, la dysenterie..."
   ]
  },
  {
   "cell_type": "markdown",
   "metadata": {},
   "source": [
    "#### Un parcours d'exception :"
   ]
  },
  {
   "cell_type": "markdown",
   "metadata": {},
   "source": [
    "- Le parcours de Florence Nightingale (1820-1910) est unique en son genre. Durant sa jeunesse, un cousin étudiant à Oxford lui donna goût aux mathématiques et elle sollicita, auprès de ses parents fortunés, le droit d'étudier les mathématiques avec un précepteur puis auprès de grands mathématiciens de l'époques avec notamment Sylvester, etc.)\n",
    "- Soucieuse des autres, elle devint infirmière et s'interrogea notamment sur les causes de la surmortalité dans les hôpitaux déjà dix ans avant la guerre de Crimée.\n",
    "- Au mois d'octobre 1854, Florence Nightingale, se rendit dans un des principaux hôpitaux de la coalition en Turquie. Elle s'employa à améliorer les conditions de vie des soldats présents (sanitaires, égouts, etc.)\n",
    "- En mars 1855, la réfection des locaux fut entreprise. Elle souhaita généraliser ces nouvelles règles sanitaires à l'ensemble des locaux de l'armée (hôpitaux et casernes) et développa parallèlement, telle une pionnière dans le domaine, les cures thermales et régimes alimentaires pour les soldats.\n",
    "- A cette époque, après la reine Victoria, Florence Nightingale fut le second visage le plus connu d'Angleterre et reste célèbre pour avoir conçu une des premières data visualisations illustrant la surmortalité due aux mauvaises conditions d'hygiène dans les hôpitaux et crée la première école de médecine militaire du pays."
   ]
  },
  {
   "cell_type": "markdown",
   "metadata": {},
   "source": [
    "Le fichier nightingale.csv renseigne 4 variables pour chaque mois de la période Avril 1854 à Mars 1855 :\n",
    "- Le nombre de soldats présents dans l'armée\n",
    "- Le nombre de morts par maladie (choléra, typhus...)\n",
    "- Le nombre de morts par blessure après combat\n",
    "- Le nombre de morts suite à des problèmes autres (malnutrition)"
   ]
  },
  {
   "cell_type": "markdown",
   "metadata": {},
   "source": [
    "### Traitement du jeu de données"
   ]
  },
  {
   "cell_type": "code",
   "execution_count": 19,
   "metadata": {},
   "outputs": [
    {
     "data": {
      "text/html": [
       "<div>\n",
       "<style scoped>\n",
       "    .dataframe tbody tr th:only-of-type {\n",
       "        vertical-align: middle;\n",
       "    }\n",
       "\n",
       "    .dataframe tbody tr th {\n",
       "        vertical-align: top;\n",
       "    }\n",
       "\n",
       "    .dataframe thead th {\n",
       "        text-align: right;\n",
       "    }\n",
       "</style>\n",
       "<table border=\"1\" class=\"dataframe\">\n",
       "  <thead>\n",
       "    <tr style=\"text-align: right;\">\n",
       "      <th></th>\n",
       "      <th>Mois</th>\n",
       "      <th>Taille_armée</th>\n",
       "      <th>Maladies</th>\n",
       "      <th>Blessures</th>\n",
       "      <th>Autres</th>\n",
       "    </tr>\n",
       "  </thead>\n",
       "  <tbody>\n",
       "    <tr>\n",
       "      <th>0</th>\n",
       "      <td>Avri.54</td>\n",
       "      <td>8571</td>\n",
       "      <td>1</td>\n",
       "      <td>0</td>\n",
       "      <td>5</td>\n",
       "    </tr>\n",
       "    <tr>\n",
       "      <th>1</th>\n",
       "      <td>Mai.54</td>\n",
       "      <td>23333</td>\n",
       "      <td>12</td>\n",
       "      <td>0</td>\n",
       "      <td>9</td>\n",
       "    </tr>\n",
       "    <tr>\n",
       "      <th>2</th>\n",
       "      <td>Juin.54</td>\n",
       "      <td>28333</td>\n",
       "      <td>11</td>\n",
       "      <td>0</td>\n",
       "      <td>6</td>\n",
       "    </tr>\n",
       "    <tr>\n",
       "      <th>3</th>\n",
       "      <td>Juil.54</td>\n",
       "      <td>28722</td>\n",
       "      <td>359</td>\n",
       "      <td>0</td>\n",
       "      <td>23</td>\n",
       "    </tr>\n",
       "    <tr>\n",
       "      <th>4</th>\n",
       "      <td>Août.54</td>\n",
       "      <td>30246</td>\n",
       "      <td>828</td>\n",
       "      <td>1</td>\n",
       "      <td>30</td>\n",
       "    </tr>\n",
       "    <tr>\n",
       "      <th>5</th>\n",
       "      <td>Sept.54</td>\n",
       "      <td>30290</td>\n",
       "      <td>788</td>\n",
       "      <td>81</td>\n",
       "      <td>70</td>\n",
       "    </tr>\n",
       "    <tr>\n",
       "      <th>6</th>\n",
       "      <td>Oct.54</td>\n",
       "      <td>30643</td>\n",
       "      <td>503</td>\n",
       "      <td>132</td>\n",
       "      <td>128</td>\n",
       "    </tr>\n",
       "    <tr>\n",
       "      <th>7</th>\n",
       "      <td>Nov.54</td>\n",
       "      <td>29736</td>\n",
       "      <td>844</td>\n",
       "      <td>287</td>\n",
       "      <td>106</td>\n",
       "    </tr>\n",
       "    <tr>\n",
       "      <th>8</th>\n",
       "      <td>Déc.54</td>\n",
       "      <td>32779</td>\n",
       "      <td>1725</td>\n",
       "      <td>114</td>\n",
       "      <td>131</td>\n",
       "    </tr>\n",
       "    <tr>\n",
       "      <th>9</th>\n",
       "      <td>Jan.55</td>\n",
       "      <td>32393</td>\n",
       "      <td>2761</td>\n",
       "      <td>83</td>\n",
       "      <td>324</td>\n",
       "    </tr>\n",
       "    <tr>\n",
       "      <th>10</th>\n",
       "      <td>Fév.55</td>\n",
       "      <td>30919</td>\n",
       "      <td>2120</td>\n",
       "      <td>42</td>\n",
       "      <td>361</td>\n",
       "    </tr>\n",
       "    <tr>\n",
       "      <th>11</th>\n",
       "      <td>Mars.55</td>\n",
       "      <td>30107</td>\n",
       "      <td>1205</td>\n",
       "      <td>32</td>\n",
       "      <td>172</td>\n",
       "    </tr>\n",
       "    <tr>\n",
       "      <th>12</th>\n",
       "      <td>Avri.55</td>\n",
       "      <td>32252</td>\n",
       "      <td>477</td>\n",
       "      <td>48</td>\n",
       "      <td>57</td>\n",
       "    </tr>\n",
       "    <tr>\n",
       "      <th>13</th>\n",
       "      <td>Mai.55</td>\n",
       "      <td>35473</td>\n",
       "      <td>508</td>\n",
       "      <td>49</td>\n",
       "      <td>37</td>\n",
       "    </tr>\n",
       "    <tr>\n",
       "      <th>14</th>\n",
       "      <td>Juin.55</td>\n",
       "      <td>38863</td>\n",
       "      <td>802</td>\n",
       "      <td>209</td>\n",
       "      <td>31</td>\n",
       "    </tr>\n",
       "    <tr>\n",
       "      <th>15</th>\n",
       "      <td>Juil.55</td>\n",
       "      <td>42647</td>\n",
       "      <td>382</td>\n",
       "      <td>134</td>\n",
       "      <td>33</td>\n",
       "    </tr>\n",
       "    <tr>\n",
       "      <th>16</th>\n",
       "      <td>Août.55</td>\n",
       "      <td>44614</td>\n",
       "      <td>483</td>\n",
       "      <td>164</td>\n",
       "      <td>25</td>\n",
       "    </tr>\n",
       "    <tr>\n",
       "      <th>17</th>\n",
       "      <td>Sept.55</td>\n",
       "      <td>47751</td>\n",
       "      <td>189</td>\n",
       "      <td>276</td>\n",
       "      <td>20</td>\n",
       "    </tr>\n",
       "    <tr>\n",
       "      <th>18</th>\n",
       "      <td>Oct.55</td>\n",
       "      <td>46852</td>\n",
       "      <td>128</td>\n",
       "      <td>53</td>\n",
       "      <td>18</td>\n",
       "    </tr>\n",
       "    <tr>\n",
       "      <th>19</th>\n",
       "      <td>Nov.55</td>\n",
       "      <td>37853</td>\n",
       "      <td>178</td>\n",
       "      <td>33</td>\n",
       "      <td>32</td>\n",
       "    </tr>\n",
       "    <tr>\n",
       "      <th>20</th>\n",
       "      <td>Déc.55</td>\n",
       "      <td>43217</td>\n",
       "      <td>91</td>\n",
       "      <td>18</td>\n",
       "      <td>28</td>\n",
       "    </tr>\n",
       "    <tr>\n",
       "      <th>21</th>\n",
       "      <td>Jan.56</td>\n",
       "      <td>44212</td>\n",
       "      <td>42</td>\n",
       "      <td>2</td>\n",
       "      <td>48</td>\n",
       "    </tr>\n",
       "    <tr>\n",
       "      <th>22</th>\n",
       "      <td>Fév.56</td>\n",
       "      <td>43485</td>\n",
       "      <td>24</td>\n",
       "      <td>0</td>\n",
       "      <td>19</td>\n",
       "    </tr>\n",
       "    <tr>\n",
       "      <th>23</th>\n",
       "      <td>Mars.56</td>\n",
       "      <td>46140</td>\n",
       "      <td>15</td>\n",
       "      <td>0</td>\n",
       "      <td>35</td>\n",
       "    </tr>\n",
       "  </tbody>\n",
       "</table>\n",
       "</div>"
      ],
      "text/plain": [
       "       Mois  Taille_armée  Maladies  Blessures  Autres\n",
       "0   Avri.54          8571         1          0       5\n",
       "1    Mai.54         23333        12          0       9\n",
       "2   Juin.54         28333        11          0       6\n",
       "3   Juil.54         28722       359          0      23\n",
       "4   Août.54         30246       828          1      30\n",
       "5   Sept.54         30290       788         81      70\n",
       "6    Oct.54         30643       503        132     128\n",
       "7    Nov.54         29736       844        287     106\n",
       "8    Déc.54         32779      1725        114     131\n",
       "9    Jan.55         32393      2761         83     324\n",
       "10   Fév.55         30919      2120         42     361\n",
       "11  Mars.55         30107      1205         32     172\n",
       "12  Avri.55         32252       477         48      57\n",
       "13   Mai.55         35473       508         49      37\n",
       "14  Juin.55         38863       802        209      31\n",
       "15  Juil.55         42647       382        134      33\n",
       "16  Août.55         44614       483        164      25\n",
       "17  Sept.55         47751       189        276      20\n",
       "18   Oct.55         46852       128         53      18\n",
       "19   Nov.55         37853       178         33      32\n",
       "20   Déc.55         43217        91         18      28\n",
       "21   Jan.56         44212        42          2      48\n",
       "22   Fév.56         43485        24          0      19\n",
       "23  Mars.56         46140        15          0      35"
      ]
     },
     "execution_count": 19,
     "metadata": {},
     "output_type": "execute_result"
    }
   ],
   "source": [
    "import pandas as pd\n",
    "\n",
    "T = pd.read_csv('data/Nightingale.csv')\n",
    "T"
   ]
  },
  {
   "cell_type": "markdown",
   "metadata": {},
   "source": [
    "### Causes de décès pour 1000 soldats de l'armée"
   ]
  },
  {
   "cell_type": "markdown",
   "metadata": {},
   "source": [
    "- En avril 1854, il y avait un mort par maladie alors qu'il y avait 8571 soldats.\n",
    "- En mai 1854, il y avait 12 morts par maladie alors qu'il y avait 23333 soldats."
   ]
  },
  {
   "cell_type": "code",
   "execution_count": 20,
   "metadata": {},
   "outputs": [
    {
     "name": "stdout",
     "output_type": "stream",
     "text": [
      "Pour 1000 soldats, en avril, nous avions un taux de mortalité de 1.4 par an.\n",
      "Et en mai, 6.17 par an.\n"
     ]
    }
   ],
   "source": [
    "a_1000 = 1000/8571\n",
    "m_1000 = 12*1000/23333\n",
    "print('Pour 1000 soldats, en avril, nous avions un taux de mortalité de', round(12*a_1000, 2), 'par an.')\n",
    "print('Et en mai,', round(12*m_1000, 2), 'par an.')"
   ]
  },
  {
   "cell_type": "markdown",
   "metadata": {},
   "source": [
    "On va stocker le nombre de morts \"annuels\" dans une colonne. On fera la même chose pour les autres causes de morts."
   ]
  },
  {
   "cell_type": "code",
   "execution_count": 21,
   "metadata": {},
   "outputs": [],
   "source": [
    "T['M_1000'] = T['Maladies'] / T['Taille_armée'] * 12000\n",
    "T['B_1000'] = T['Blessures'] / T['Taille_armée'] * 12000\n",
    "T['A_1000'] = T['Autres'] / T['Taille_armée'] * 12000"
   ]
  },
  {
   "cell_type": "markdown",
   "metadata": {},
   "source": [
    "### Représentation des causes de décès pour 1000 soldats dans l'armée"
   ]
  },
  {
   "cell_type": "markdown",
   "metadata": {},
   "source": [
    "- Pour un mois donné et une cause de décès donné, on représente un nombre n de morts 'annuels' par un secteur angulaire dont l'aire est égale à n.\n",
    "- Pour chaque cause, on représente 12 mois consécutifs dans le même graphique, où les secteurs partent du même centre et on le même angle."
   ]
  },
  {
   "cell_type": "code",
   "execution_count": 22,
   "metadata": {},
   "outputs": [
    {
     "name": "stdout",
     "output_type": "stream",
     "text": [
      "Cet angle fera donc 30.0 degrés.\n"
     ]
    }
   ],
   "source": [
    "print('Cet angle fera donc', 360/12, 'degrés.')"
   ]
  },
  {
   "cell_type": "markdown",
   "metadata": {},
   "source": [
    "- Un secteur a pour aire 'A' et pour rayon 'r'\n",
    "- On va exprimer 'A' en fonction de 'r' et vice-versa"
   ]
  },
  {
   "cell_type": "code",
   "execution_count": 23,
   "metadata": {},
   "outputs": [
    {
     "name": "stdout",
     "output_type": "stream",
     "text": [
      "L'aire d'un cercle est égale à pi*r^2\n",
      "On peut donc dire que A = pi*r^2/12 car il y a 12 mois.\n",
      "Et donc r = sqrt(12*A/pi)\n"
     ]
    }
   ],
   "source": [
    "print(\"L'aire d'un cercle est égale à pi*r^2\")\n",
    "print('On peut donc dire que A = pi*r^2/12 car il y a 12 mois.')\n",
    "print('Et donc r = sqrt(12*A/pi)')"
   ]
  },
  {
   "cell_type": "markdown",
   "metadata": {},
   "source": [
    "- On sait que A = nombre de morts annuels.\n",
    "- Pour avril 1854, on a donc 1.4 morts annuels par maladie"
   ]
  },
  {
   "cell_type": "code",
   "execution_count": 24,
   "metadata": {},
   "outputs": [
    {
     "name": "stdout",
     "output_type": "stream",
     "text": [
      "Donc on aurait r environ = 2.313075543802575\n"
     ]
    }
   ],
   "source": [
    "print('Donc on aurait r environ =', (12*1.4/3.14)**0.5)"
   ]
  },
  {
   "cell_type": "code",
   "execution_count": 25,
   "metadata": {},
   "outputs": [
    {
     "data": {
      "text/html": [
       "<div>\n",
       "<style scoped>\n",
       "    .dataframe tbody tr th:only-of-type {\n",
       "        vertical-align: middle;\n",
       "    }\n",
       "\n",
       "    .dataframe tbody tr th {\n",
       "        vertical-align: top;\n",
       "    }\n",
       "\n",
       "    .dataframe thead th {\n",
       "        text-align: right;\n",
       "    }\n",
       "</style>\n",
       "<table border=\"1\" class=\"dataframe\">\n",
       "  <thead>\n",
       "    <tr style=\"text-align: right;\">\n",
       "      <th></th>\n",
       "      <th>Mois</th>\n",
       "      <th>Taille_armée</th>\n",
       "      <th>Maladies</th>\n",
       "      <th>Blessures</th>\n",
       "      <th>Autres</th>\n",
       "      <th>M_1000</th>\n",
       "      <th>B_1000</th>\n",
       "      <th>A_1000</th>\n",
       "      <th>rM</th>\n",
       "      <th>rB</th>\n",
       "      <th>rA</th>\n",
       "    </tr>\n",
       "  </thead>\n",
       "  <tbody>\n",
       "    <tr>\n",
       "      <th>0</th>\n",
       "      <td>Avri.54</td>\n",
       "      <td>8571</td>\n",
       "      <td>1</td>\n",
       "      <td>0</td>\n",
       "      <td>5</td>\n",
       "      <td>1.400070</td>\n",
       "      <td>0.000000</td>\n",
       "      <td>7.000350</td>\n",
       "      <td>2.312547</td>\n",
       "      <td>0.00000</td>\n",
       "      <td>5.171012</td>\n",
       "    </tr>\n",
       "    <tr>\n",
       "      <th>1</th>\n",
       "      <td>Mai.54</td>\n",
       "      <td>23333</td>\n",
       "      <td>12</td>\n",
       "      <td>0</td>\n",
       "      <td>9</td>\n",
       "      <td>6.171517</td>\n",
       "      <td>0.000000</td>\n",
       "      <td>4.628638</td>\n",
       "      <td>4.855251</td>\n",
       "      <td>0.00000</td>\n",
       "      <td>4.204770</td>\n",
       "    </tr>\n",
       "    <tr>\n",
       "      <th>2</th>\n",
       "      <td>Juin.54</td>\n",
       "      <td>28333</td>\n",
       "      <td>11</td>\n",
       "      <td>0</td>\n",
       "      <td>6</td>\n",
       "      <td>4.658878</td>\n",
       "      <td>0.000000</td>\n",
       "      <td>2.541206</td>\n",
       "      <td>4.218484</td>\n",
       "      <td>0.00000</td>\n",
       "      <td>3.115557</td>\n",
       "    </tr>\n",
       "    <tr>\n",
       "      <th>3</th>\n",
       "      <td>Juil.54</td>\n",
       "      <td>28722</td>\n",
       "      <td>359</td>\n",
       "      <td>0</td>\n",
       "      <td>23</td>\n",
       "      <td>149.989555</td>\n",
       "      <td>0.000000</td>\n",
       "      <td>9.609359</td>\n",
       "      <td>23.935703</td>\n",
       "      <td>0.00000</td>\n",
       "      <td>6.058469</td>\n",
       "    </tr>\n",
       "    <tr>\n",
       "      <th>4</th>\n",
       "      <td>Août.54</td>\n",
       "      <td>30246</td>\n",
       "      <td>828</td>\n",
       "      <td>1</td>\n",
       "      <td>30</td>\n",
       "      <td>328.506249</td>\n",
       "      <td>0.396747</td>\n",
       "      <td>11.902400</td>\n",
       "      <td>35.423177</td>\n",
       "      <td>1.23104</td>\n",
       "      <td>6.742686</td>\n",
       "    </tr>\n",
       "  </tbody>\n",
       "</table>\n",
       "</div>"
      ],
      "text/plain": [
       "      Mois  Taille_armée  Maladies  Blessures  Autres      M_1000    B_1000  \\\n",
       "0  Avri.54          8571         1          0       5    1.400070  0.000000   \n",
       "1   Mai.54         23333        12          0       9    6.171517  0.000000   \n",
       "2  Juin.54         28333        11          0       6    4.658878  0.000000   \n",
       "3  Juil.54         28722       359          0      23  149.989555  0.000000   \n",
       "4  Août.54         30246       828          1      30  328.506249  0.396747   \n",
       "\n",
       "      A_1000         rM       rB        rA  \n",
       "0   7.000350   2.312547  0.00000  5.171012  \n",
       "1   4.628638   4.855251  0.00000  4.204770  \n",
       "2   2.541206   4.218484  0.00000  3.115557  \n",
       "3   9.609359  23.935703  0.00000  6.058469  \n",
       "4  11.902400  35.423177  1.23104  6.742686  "
      ]
     },
     "execution_count": 25,
     "metadata": {},
     "output_type": "execute_result"
    }
   ],
   "source": [
    "from math import pi\n",
    "\n",
    "T['rM'] = (12/pi * T['M_1000'])**0.5\n",
    "T['rB'] = (12/pi * T['B_1000'])**0.5\n",
    "T['rA'] = (12/pi * T['A_1000'])**0.5\n",
    "T.head()"
   ]
  },
  {
   "cell_type": "code",
   "execution_count": 26,
   "metadata": {},
   "outputs": [],
   "source": [
    "A1 = T.query('index < 12')"
   ]
  },
  {
   "cell_type": "code",
   "execution_count": 27,
   "metadata": {},
   "outputs": [],
   "source": [
    "import pylab as pl"
   ]
  },
  {
   "cell_type": "code",
   "execution_count": 31,
   "metadata": {},
   "outputs": [
    {
     "data": {
      "text/plain": [
       "<matplotlib.legend.Legend at 0x28c1d428f70>"
      ]
     },
     "execution_count": 31,
     "metadata": {},
     "output_type": "execute_result"
    },
    {
     "data": {
      "image/png": "[encoded data removed]",
      "text/plain": [
       "<Figure size 720x720 with 1 Axes>"
      ]
     },
     "metadata": {
      "needs_background": "light"
     },
     "output_type": "display_data"
    }
   ],
   "source": [
    "## Environnement de la figure\n",
    "fig = pl.figure(figsize = (10,10))\n",
    "angles = [pi/6 * k for k in range(12)]\n",
    "\n",
    "# Code utile pour les roses sans graduation\n",
    "ax = pl.subplot(111, projection = 'polar')\n",
    "ax.set_xticks(angles)\n",
    "ax.grid(False)\n",
    "ax.spines['polar'].set_visible(False)\n",
    "ax.set_xticklabels('')\n",
    "ax.set_yticklabels('')\n",
    "\n",
    "# Affichage esthétique des mois\n",
    "for k in range(12):\n",
    "    r = max(A1.loc[k, 'rM'], A1.loc[k, 'rB'], A1.loc[k, 'rA'])\n",
    "    if pi/2 < angles[k] < 3*pi/2:\n",
    "        ax.text(angles[k], \n",
    "                r+7, \n",
    "                A1.loc[k, 'Mois'], \n",
    "                rotation = 30*k + 180, \n",
    "                horizontalalignment = 'center', \n",
    "                verticalalignment = 'center', \n",
    "                fontsize = 9)\n",
    "    else:\n",
    "        ax.text(angles[k],\n",
    "                r+7,\n",
    "                A1.loc[k, 'Mois'],\n",
    "                rotation = 30*k, \n",
    "                horizontalalignment = 'center', \n",
    "                verticalalignment = 'center',\n",
    "                fontsize = 9)\n",
    "    \n",
    "# Représentation des 3 roses\n",
    "ax.bar(angles, A1['rM'], width=pi/6, bottom=0,\n",
    "       facecolor = 'blue', edgecolor = 'black',\n",
    "       alpha = 0.4, label = 'Maladies')\n",
    "ax.bar(angles, A1['rB'], width=pi/6, bottom=0,\n",
    "       facecolor = 'red', hatch='//', edgecolor='black',\n",
    "       alpha = 0.4, label = 'Blessures')\n",
    "ax.bar(angles, A1['rA'], width=pi/6, bottom=0,\n",
    "       facecolor = 'black', edgecolor= 'black',\n",
    "       alpha = 0.5, label = 'Autres')\n",
    "\n",
    "ax.legend(bbox_to_anchor = (0.8, 0.6))"
   ]
  },
  {
   "cell_type": "markdown",
   "metadata": {},
   "source": [
    "- On voit que les soldats mourraient principalement de maladies"
   ]
  },
  {
   "cell_type": "markdown",
   "metadata": {},
   "source": [
    "###  Rôle de la data visualisation pour convaincre"
   ]
  },
  {
   "cell_type": "code",
   "execution_count": 29,
   "metadata": {},
   "outputs": [],
   "source": [
    "A2 = T.query('index >= 12' or 'index < 24')"
   ]
  },
  {
   "cell_type": "code",
   "execution_count": 37,
   "metadata": {},
   "outputs": [
    {
     "data": {
      "text/plain": [
       "Text(0.5, 1.0, 'Répartition des soldats hospitalisés 1855-1856')"
      ]
     },
     "execution_count": 37,
     "metadata": {},
     "output_type": "execute_result"
    },
    {
     "data": {
      "image/png": "[encoded data removed]",
      "text/plain": [
       "<Figure size 792x576 with 2 Axes>"
      ]
     },
     "metadata": {
      "needs_background": "light"
     },
     "output_type": "display_data"
    }
   ],
   "source": [
    "fig = pl.figure(figsize = (11,8))\n",
    "\n",
    "ax1 = pl.subplot(121, projection = 'polar')\n",
    "ax1.set_xticks(angles)\n",
    "ax1.set_xticklabels('')\n",
    "ax1.grid(False)\n",
    "ax1.spines[\"polar\"].set_visible(False)\n",
    "ax1.set_yticklabels('')\n",
    "\n",
    "for k in range(12):\n",
    "    r = max(A1.loc[k, 'rM'], A1.loc[k, 'rB'], A1.loc[k, 'rA'])\n",
    "    if pi/2 < angles[k] < 3*pi/2:\n",
    "        ax1.text(angles[k], \n",
    "                r+7, \n",
    "                A1.loc[k, 'Mois'], \n",
    "                rotation = 30*k + 180, \n",
    "                horizontalalignment = 'center', \n",
    "                verticalalignment = 'center', \n",
    "                fontsize = 9)\n",
    "    else:\n",
    "        ax1.text(angles[k],\n",
    "                r+7,\n",
    "                A1.loc[k, 'Mois'],\n",
    "                rotation = 30*k, \n",
    "                horizontalalignment = 'center', \n",
    "                verticalalignment = 'center',\n",
    "                fontsize = 9)\n",
    "    \n",
    "# Représentation des 3 roses\n",
    "ax1.bar(angles, A1['rM'], width=pi/6, bottom=0,\n",
    "       facecolor = 'blue', edgecolor = 'black',\n",
    "       alpha = 0.4, label = 'Maladies')\n",
    "ax1.bar(angles, A1['rB'], width=pi/6, bottom=0,\n",
    "       facecolor = 'red', hatch='//', edgecolor='black',\n",
    "       alpha = 0.4, label = 'Blessures')\n",
    "ax1.bar(angles, A1['rA'], width=pi/6, bottom=0,\n",
    "       facecolor = 'black', edgecolor= 'black',\n",
    "       alpha = 0.5, label = 'Autres')\n",
    "\n",
    "ax1.legend(bbox_to_anchor = (1, 0.6))\n",
    "ax1.set_title('Répartition des soldats hospitalisés 1854-1855',\n",
    "              color = 'black', fontweight = 'bold',\n",
    "              name = 'Comic Sans MS')\n",
    "\n",
    "ax2 = pl.subplot(122, projection = 'polar')\n",
    "ax2.set_xticks(angles)\n",
    "ax2.set_xticklabels('')\n",
    "ax2.grid(False)\n",
    "ax2.spines[\"polar\"].set_visible(False)\n",
    "ax2.set_yticklabels('')\n",
    "\n",
    "for k in range(12):\n",
    "    r = max(A2.loc[k+12, 'rM'], A2.loc[k+12, 'rB'], A2.loc[k+12, 'rA'])\n",
    "    if pi/2 < angles[k] < 3*pi/2:\n",
    "        ax2.text(angles[k], \n",
    "                r+7, \n",
    "                A2.loc[k+12, 'Mois'], \n",
    "                rotation = 30*k + 180, \n",
    "                horizontalalignment = 'center', \n",
    "                verticalalignment = 'center', \n",
    "                fontsize = 9)\n",
    "    else:\n",
    "        ax2.text(angles[k],\n",
    "                r+7,\n",
    "                A2.loc[k+12, 'Mois'],\n",
    "                rotation = 30*k, \n",
    "                horizontalalignment = 'center', \n",
    "                verticalalignment = 'center',\n",
    "                fontsize = 9)\n",
    "    \n",
    "# Représentation des 3 roses\n",
    "ax2.bar(angles, A1['rM'], width = pi/6,\n",
    "        bottom = 0, facecolor = 'white',\n",
    "        edgecolor = 'white', alpha = 0)\n",
    "ax2.bar(angles, A2['rM'], width=pi/6, bottom=0,\n",
    "       facecolor = 'blue', edgecolor = 'black',\n",
    "       alpha = 0.4, label = 'Maladies')\n",
    "ax2.bar(angles, A2['rB'], width=pi/6, bottom=0,\n",
    "       facecolor = 'red', hatch='//', edgecolor='black',\n",
    "       alpha = 0.4, label = 'Blessures')\n",
    "ax2.bar(angles, A2['rA'], width=pi/6, bottom=0,\n",
    "       facecolor = 'black', edgecolor= 'black',\n",
    "       alpha = 0.5, label = 'Autres')\n",
    "\n",
    "\n",
    "ax2.set_title('Répartition des soldats hospitalisés 1855-1856',\n",
    "              color = 'black', fontweight = 'bold',\n",
    "              name = 'Comic Sans MS')"
   ]
  },
  {
   "cell_type": "markdown",
   "metadata": {},
   "source": [
    "En novembre 1854, Florence Nightingale impulsa un nettoyage de l'ensemble des hôpitaux dans l'espoir de réduire la mortalité par maladie.\n",
    "\n",
    "Malgré toute la bonne volonté, la mortalité par maladie atteignit son pic en hiver.\n",
    "\n",
    "En mars 1855, elle demanda le nettoyage des égouts et l'assainissement de la ventilation dans les hôpitaux."
   ]
  },
  {
   "cell_type": "code",
   "execution_count": null,
   "metadata": {},
   "outputs": [],
   "source": []
  }
 ],
 "metadata": {
  "kernelspec": {
   "display_name": "Python 3",
   "language": "python",
   "name": "python3"
  },
  "language_info": {
   "codemirror_mode": {
    "name": "ipython",
    "version": 3
   },
   "file_extension": ".py",
   "mimetype": "text/x-python",
   "name": "python",
   "nbconvert_exporter": "python",
   "pygments_lexer": "ipython3",
   "version": "3.8.5"
  }
 },
 "nbformat": 4,
 "nbformat_minor": 4
}
