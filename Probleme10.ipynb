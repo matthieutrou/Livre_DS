{
 "cells": [
  {
   "cell_type": "markdown",
   "metadata": {},
   "source": [
    "# Lanceur d'alerte de jeux de grattages"
   ]
  },
  {
   "cell_type": "markdown",
   "metadata": {},
   "source": [
    "#### Préambule :"
   ]
  },
  {
   "cell_type": "markdown",
   "metadata": {},
   "source": [
    "A la fin des années 2000, monsieur Robert Riblet avait mis la FDJ (Française des Jeux) dans l'embarras en révélant que les jeux de grattage (Millionnaire, Banco, Astro et autres, qui représentent près de la moitié des mises totales auprès de la FDJ) n'étaient pas vraiment des jeux de hasard.\n",
    "\n",
    "La FDJ vendait ses produits par \"livrets\" de 50 tickets. Mais alors qu'ils auraient dû, comme la loi l'imposait à l'époque, présenter un nombre aléatoire de lots, ce n'était pas le cas : en réalité, chacun contenait un nombre fixe de \"lots significatifs\" (supérieurs à 20 euros).\n",
    "\n",
    "Une fois ces lots trouvés, on a donc l'assurance que le reste du carnet ne contiendra rien d'intéressant. Le carnet continuera pourtant d'être vendu, provoquant une \"rupture d'égalité entre les joueurs\"."
   ]
  },
  {
   "cell_type": "markdown",
   "metadata": {},
   "source": [
    "#### Origine de l'alerte :"
   ]
  },
  {
   "cell_type": "markdown",
   "metadata": {},
   "source": [
    "- Les tickets de \"VEGAS\" sont vendus par rouleaux de 150000 unités.\n",
    "- On découpe ces rouleaux en carnets de 50 tickets, que l'on appelle BANDES.\n",
    "- Parmi les 1500000 tickets produits, 40529 permettent de gagner plus de 20€.\n",
    "- Un ticlet est dit \"significatif\" s'il rapporte plus de 20€."
   ]
  },
  {
   "cell_type": "markdown",
   "metadata": {},
   "source": [
    "\"La répartition des lots dans les jeux à gratter n'obéirait pas à la seule loi du hasard. En clair, lorsque sur une bande de Vegas sort un ticket à 20 euros ou plus, ce que l'on appelle dans le jargon un lot 'significatif', il n'y aurait plus aucune chance de renouveler l'exploit sur la même bande\".\n",
    "\n",
    "Plus loin, il est mentionné le résultat d'une enquête :\n",
    "\n",
    "\"Nous avons, sous contrôle d'huissier, acheté et fait gratter 25 carnets de Vegas, soit 1250 tickets, et constaté qu'aucune bande ne comportait plus d'un lot significatif\"."
   ]
  },
  {
   "cell_type": "markdown",
   "metadata": {},
   "source": [
    "#### Question :\n",
    "\n",
    "L'hypothèse que \"la répartition des tickets est aléatoire et uniforme\" est-elle vraie ou fausse ?"
   ]
  },
  {
   "cell_type": "markdown",
   "metadata": {},
   "source": [
    "## Etape 1"
   ]
  },
  {
   "cell_type": "markdown",
   "metadata": {},
   "source": [
    "Supposons que l'hypothèse émise au départ soit vraie, la répartition des tickets est alors aléatoire et uniforme.\n",
    "Calculer la probabilité, notée p, que le ticket acheté soit significatif"
   ]
  },
  {
   "cell_type": "code",
   "execution_count": 3,
   "metadata": {},
   "outputs": [
    {
     "data": {
      "text/plain": [
       "0.027019333333333333"
      ]
     },
     "execution_count": 3,
     "metadata": {},
     "output_type": "execute_result"
    }
   ],
   "source": [
    "p = 40529/1500000\n",
    "p"
   ]
  },
  {
   "cell_type": "markdown",
   "metadata": {},
   "source": [
    "La probabilité p que le ticket soit significatif est environ de 2,7%"
   ]
  },
  {
   "cell_type": "markdown",
   "metadata": {},
   "source": [
    "## Etape 2"
   ]
  },
  {
   "cell_type": "markdown",
   "metadata": {},
   "source": [
    "Supposons que l'hypothèse émise au départ soit vraie, l'obtention d'un ticket significatif lors d'un grattage est indépendant des grattages précédents."
   ]
  },
  {
   "cell_type": "markdown",
   "metadata": {},
   "source": [
    "On note X la variable aléatoire qui compté le nombre de tickets significatifs présents dans un carnet de 50 tickets."
   ]
  },
  {
   "cell_type": "markdown",
   "metadata": {},
   "source": [
    "X suit donc une loi binomiale car on a une succession d'épreuve qui donne un succès ou un échec de paramètre n=50 et p=0.02"
   ]
  },
  {
   "cell_type": "markdown",
   "metadata": {},
   "source": [
    "On veut calculer q = P(X>=2)"
   ]
  },
  {
   "cell_type": "code",
   "execution_count": 4,
   "metadata": {},
   "outputs": [
    {
     "data": {
      "text/plain": [
       "0.39279881245519443"
      ]
     },
     "execution_count": 4,
     "metadata": {},
     "output_type": "execute_result"
    }
   ],
   "source": [
    "import scipy.stats as sc\n",
    "\n",
    "X = sc.binom(50, p)\n",
    "q = 1 - X.cdf(1)\n",
    "q"
   ]
  },
  {
   "cell_type": "markdown",
   "metadata": {},
   "source": [
    "#### Simulation de X"
   ]
  },
  {
   "cell_type": "code",
   "execution_count": 7,
   "metadata": {},
   "outputs": [],
   "source": [
    "from random import *\n",
    "from math import floor"
   ]
  },
  {
   "cell_type": "code",
   "execution_count": 12,
   "metadata": {},
   "outputs": [],
   "source": [
    "def binom(n, p):\n",
    "    X = 0\n",
    "    for k in range(n):\n",
    "        X = X + floor(random()+p)\n",
    "    return X"
   ]
  },
  {
   "cell_type": "code",
   "execution_count": 15,
   "metadata": {},
   "outputs": [],
   "source": [
    "carnets_25 = [binom(50,p) for k in range(25)]"
   ]
  },
  {
   "cell_type": "markdown",
   "metadata": {},
   "source": [
    "Pour un lot de 25 carnets (de 50 tickets), on note N la variable aléatoire qui compte le nombre de carnets ayant au moins deux tickets significatifs.\n",
    "\n",
    "La fonction nommée comptage_carnets a pour paramètre Liste_carnets et elle renvoie la valeur prise par N."
   ]
  },
  {
   "cell_type": "code",
   "execution_count": 21,
   "metadata": {},
   "outputs": [],
   "source": [
    "def comptage_carnets(Liste_carnets):\n",
    "    n=0\n",
    "    for a in Liste_carnets:\n",
    "        if a>=2:\n",
    "            n=n+1\n",
    "    return n"
   ]
  },
  {
   "cell_type": "code",
   "execution_count": 22,
   "metadata": {},
   "outputs": [
    {
     "data": {
      "text/plain": [
       "9"
      ]
     },
     "execution_count": 22,
     "metadata": {},
     "output_type": "execute_result"
    }
   ],
   "source": [
    "comptage_carnets(carnets_25)"
   ]
  },
  {
   "cell_type": "markdown",
   "metadata": {},
   "source": [
    "#### Loi de probabilité de N"
   ]
  },
  {
   "cell_type": "code",
   "execution_count": 23,
   "metadata": {},
   "outputs": [],
   "source": [
    "L = []"
   ]
  },
  {
   "cell_type": "code",
   "execution_count": 24,
   "metadata": {},
   "outputs": [],
   "source": [
    "for i in range(10000):\n",
    "    carnets_25 = [binom(50,p) for k in range(25)]\n",
    "    nb = comptage_carnets(carnets_25)\n",
    "    L.append(nb)"
   ]
  },
  {
   "cell_type": "code",
   "execution_count": 26,
   "metadata": {},
   "outputs": [
    {
     "name": "stdout",
     "output_type": "stream",
     "text": [
      "[0.0, 0.0, 0.0005, 0.0023, 0.0076, 0.0231, 0.048, 0.0855, 0.1224, 0.1586, 0.1609, 0.1427, 0.1074, 0.071, 0.039, 0.02, 0.0074, 0.0024, 0.0009, 0.0003]\n"
     ]
    }
   ],
   "source": [
    "F = [L.count(k) / 10000 for k in range(max(L) + 1)]\n",
    "print(F)"
   ]
  },
  {
   "cell_type": "code",
   "execution_count": 27,
   "metadata": {},
   "outputs": [],
   "source": [
    "import pylab as pl\n",
    "pl.style.use('bmh')"
   ]
  },
  {
   "cell_type": "code",
   "execution_count": 28,
   "metadata": {},
   "outputs": [
    {
     "data": {
      "image/png": "[encoded data removed]",
      "text/plain": [
       "<Figure size 432x288 with 1 Axes>"
      ]
     },
     "metadata": {
      "needs_background": "light"
     },
     "output_type": "display_data"
    }
   ],
   "source": [
    "pl.bar(range(max(L) + 1), F,\n",
    "       width = 0.5, color = 'black', \n",
    "       label = 'Simulations')\n",
    "pl.xticks(range(max(L)+1))\n",
    "pl.xlabel('Valeurs de $N$', fontsize = 14)\n",
    "pl.show()"
   ]
  },
  {
   "cell_type": "markdown",
   "metadata": {},
   "source": [
    "N suit une loi binomiale aussi de paramètre n=25 et p=0,39"
   ]
  },
  {
   "cell_type": "code",
   "execution_count": 29,
   "metadata": {},
   "outputs": [],
   "source": [
    "N = sc.binom(25, q)\n",
    "P = [N.pmf(k) for k in range(max(L) + 1)]"
   ]
  },
  {
   "cell_type": "code",
   "execution_count": 31,
   "metadata": {},
   "outputs": [
    {
     "data": {
      "image/png": "[encoded data removed]",
      "text/plain": [
       "<Figure size 432x288 with 1 Axes>"
      ]
     },
     "metadata": {
      "needs_background": "light"
     },
     "output_type": "display_data"
    }
   ],
   "source": [
    "pl.bar(range(max(L) + 1), F,\n",
    "       width = 0.5, color = 'black', \n",
    "       label = 'Simulations')\n",
    "pl.bar(range(max(L) + 1), P,\n",
    "       width = 0.5, color = 'red', \n",
    "       label = 'Théorie')\n",
    "pl.xticks(range(max(L)+1))\n",
    "pl.xlabel('Valeurs de $N$', fontsize = 14)\n",
    "pl.legend(fontsize = 13)\n",
    "pl.show()"
   ]
  },
  {
   "cell_type": "markdown",
   "metadata": {},
   "source": [
    "#### Vraisemblance de N"
   ]
  },
  {
   "cell_type": "markdown",
   "metadata": {},
   "source": [
    "On calcule P(N=0)"
   ]
  },
  {
   "cell_type": "code",
   "execution_count": 32,
   "metadata": {},
   "outputs": [
    {
     "data": {
      "text/plain": [
       "3.831027828415992e-06"
      ]
     },
     "execution_count": 32,
     "metadata": {},
     "output_type": "execute_result"
    }
   ],
   "source": [
    "N.pmf(0)"
   ]
  },
  {
   "cell_type": "markdown",
   "metadata": {},
   "source": [
    "On voit qu'il est très rare d'observer N=0, donc on peut penser que la répartition n'est ni aléatoire ni uniforme."
   ]
  },
  {
   "cell_type": "markdown",
   "metadata": {},
   "source": [
    "#### Remarque :\n",
    "\n",
    "Même si monsieur Riblet a perdu la plupart des procédures judiciaires, la FDJ a depuis ajouté à ses tickets la mention \"au moment de votre achat, certains lots ont peut-être déjà été remportés\""
   ]
  },
  {
   "cell_type": "code",
   "execution_count": null,
   "metadata": {},
   "outputs": [],
   "source": []
  }
 ],
 "metadata": {
  "kernelspec": {
   "display_name": "Python 3",
   "language": "python",
   "name": "python3"
  },
  "language_info": {
   "codemirror_mode": {
    "name": "ipython",
    "version": 3
   },
   "file_extension": ".py",
   "mimetype": "text/x-python",
   "name": "python",
   "nbconvert_exporter": "python",
   "pygments_lexer": "ipython3",
   "version": "3.8.5"
  }
 },
 "nbformat": 4,
 "nbformat_minor": 4
}
