{
 "cells": [
  {
   "cell_type": "markdown",
   "metadata": {},
   "source": [
    "# Temps d'attente entre 2 accidents d'avions"
   ]
  },
  {
   "cell_type": "markdown",
   "metadata": {},
   "source": [
    "Le site https://www.kaggle.com met à disposition l'ensemble des accidents d'avion connus de 1908 à 2009.\n",
    "\n",
    "Après nettoyage des données, nous obtenons le fichier 'avions_crash.csv'.\n",
    "\n",
    "Chaque ligne correspond à l'accident d'un avion, on a :\n",
    "- La date\n",
    "- L'année\n",
    "- Le lieu\n",
    "- Le propriétaire\n",
    "- Le type\n",
    "- Le nom du trajet\n",
    "- Le nombre de passagers à bord\n",
    "- Le nombre de victimes"
   ]
  },
  {
   "cell_type": "markdown",
   "metadata": {},
   "source": [
    "Les objectifs sont :\n",
    "\n",
    "- Pour la période allant de 2005 à 2007, calculer les temps d'attente, comptés en jour, entre deux accidents consécuitfs d'avion.\n",
    "- Modéliser ce temps d'attente par une variable aléatoire notée X pour laquelle on proposera une loi de probabilité.\n",
    "- Selon cette loi, calculer la probabilité d'attendre au moins 30 jours pour voir survenir un nouvel accident.\n",
    "- S'intéresser au cas où 2 accidents se produisent le même jour"
   ]
  },
  {
   "cell_type": "markdown",
   "metadata": {},
   "source": [
    "## Etape 1 : Temps d'attente entre deux crashs d'avion"
   ]
  },
  {
   "cell_type": "code",
   "execution_count": 2,
   "metadata": {},
   "outputs": [
    {
     "data": {
      "text/html": [
       "<div>\n",
       "<style scoped>\n",
       "    .dataframe tbody tr th:only-of-type {\n",
       "        vertical-align: middle;\n",
       "    }\n",
       "\n",
       "    .dataframe tbody tr th {\n",
       "        vertical-align: top;\n",
       "    }\n",
       "\n",
       "    .dataframe thead th {\n",
       "        text-align: right;\n",
       "    }\n",
       "</style>\n",
       "<table border=\"1\" class=\"dataframe\">\n",
       "  <thead>\n",
       "    <tr style=\"text-align: right;\">\n",
       "      <th></th>\n",
       "      <th>Date</th>\n",
       "      <th>Year</th>\n",
       "      <th>Operator</th>\n",
       "      <th>Type</th>\n",
       "      <th>Route</th>\n",
       "      <th>Aboard</th>\n",
       "      <th>Fatalities</th>\n",
       "    </tr>\n",
       "  </thead>\n",
       "  <tbody>\n",
       "    <tr>\n",
       "      <th>0</th>\n",
       "      <td>1908-09-17 17:18:00</td>\n",
       "      <td>1908</td>\n",
       "      <td>MILITARY - U.S. ARMY</td>\n",
       "      <td>Wright Flyer III</td>\n",
       "      <td>Demonstration</td>\n",
       "      <td>2.0</td>\n",
       "      <td>1.0</td>\n",
       "    </tr>\n",
       "    <tr>\n",
       "      <th>1</th>\n",
       "      <td>1912-07-12 06:30:00</td>\n",
       "      <td>1912</td>\n",
       "      <td>MILITARY - U.S. NAVY</td>\n",
       "      <td>Dirigible</td>\n",
       "      <td>Test flight</td>\n",
       "      <td>5.0</td>\n",
       "      <td>5.0</td>\n",
       "    </tr>\n",
       "    <tr>\n",
       "      <th>2</th>\n",
       "      <td>1913-08-06 00:00:00</td>\n",
       "      <td>1913</td>\n",
       "      <td>PRIVATE</td>\n",
       "      <td>Curtiss seaplane</td>\n",
       "      <td>NaN</td>\n",
       "      <td>1.0</td>\n",
       "      <td>1.0</td>\n",
       "    </tr>\n",
       "    <tr>\n",
       "      <th>3</th>\n",
       "      <td>1913-09-09 18:30:00</td>\n",
       "      <td>1913</td>\n",
       "      <td>MILITARY - GERMAN NAVY</td>\n",
       "      <td>Zeppelin L-1 (airship)</td>\n",
       "      <td>NaN</td>\n",
       "      <td>20.0</td>\n",
       "      <td>14.0</td>\n",
       "    </tr>\n",
       "    <tr>\n",
       "      <th>4</th>\n",
       "      <td>1913-10-17 10:30:00</td>\n",
       "      <td>1913</td>\n",
       "      <td>MILITARY - GERMAN NAVY</td>\n",
       "      <td>Zeppelin L-2 (airship)</td>\n",
       "      <td>NaN</td>\n",
       "      <td>30.0</td>\n",
       "      <td>30.0</td>\n",
       "    </tr>\n",
       "  </tbody>\n",
       "</table>\n",
       "</div>"
      ],
      "text/plain": [
       "                  Date  Year                Operator                    Type  \\\n",
       "0  1908-09-17 17:18:00  1908    MILITARY - U.S. ARMY        Wright Flyer III   \n",
       "1  1912-07-12 06:30:00  1912    MILITARY - U.S. NAVY               Dirigible   \n",
       "2  1913-08-06 00:00:00  1913                 PRIVATE        Curtiss seaplane   \n",
       "3  1913-09-09 18:30:00  1913  MILITARY - GERMAN NAVY  Zeppelin L-1 (airship)   \n",
       "4  1913-10-17 10:30:00  1913  MILITARY - GERMAN NAVY  Zeppelin L-2 (airship)   \n",
       "\n",
       "           Route  Aboard  Fatalities  \n",
       "0  Demonstration     2.0         1.0  \n",
       "1    Test flight     5.0         5.0  \n",
       "2            NaN     1.0         1.0  \n",
       "3            NaN    20.0        14.0  \n",
       "4            NaN    30.0        30.0  "
      ]
     },
     "execution_count": 2,
     "metadata": {},
     "output_type": "execute_result"
    }
   ],
   "source": [
    "import pandas as pd\n",
    "import pylab as pl\n",
    "pl.style.use('bmh')\n",
    "\n",
    "T = pd.read_csv('data/avions_crash.csv')\n",
    "T.head()"
   ]
  },
  {
   "cell_type": "code",
   "execution_count": 3,
   "metadata": {},
   "outputs": [
    {
     "data": {
      "text/html": [
       "<div>\n",
       "<style scoped>\n",
       "    .dataframe tbody tr th:only-of-type {\n",
       "        vertical-align: middle;\n",
       "    }\n",
       "\n",
       "    .dataframe tbody tr th {\n",
       "        vertical-align: top;\n",
       "    }\n",
       "\n",
       "    .dataframe thead th {\n",
       "        text-align: right;\n",
       "    }\n",
       "</style>\n",
       "<table border=\"1\" class=\"dataframe\">\n",
       "  <thead>\n",
       "    <tr style=\"text-align: right;\">\n",
       "      <th></th>\n",
       "      <th>Date</th>\n",
       "      <th>Year</th>\n",
       "      <th>Operator</th>\n",
       "      <th>Type</th>\n",
       "      <th>Route</th>\n",
       "      <th>Aboard</th>\n",
       "      <th>Fatalities</th>\n",
       "      <th>Delta</th>\n",
       "    </tr>\n",
       "  </thead>\n",
       "  <tbody>\n",
       "    <tr>\n",
       "      <th>0</th>\n",
       "      <td>1908-09-17 17:18:00</td>\n",
       "      <td>1908</td>\n",
       "      <td>MILITARY - U.S. ARMY</td>\n",
       "      <td>Wright Flyer III</td>\n",
       "      <td>Demonstration</td>\n",
       "      <td>2.0</td>\n",
       "      <td>1.0</td>\n",
       "      <td>NaT</td>\n",
       "    </tr>\n",
       "    <tr>\n",
       "      <th>1</th>\n",
       "      <td>1912-07-12 06:30:00</td>\n",
       "      <td>1912</td>\n",
       "      <td>MILITARY - U.S. NAVY</td>\n",
       "      <td>Dirigible</td>\n",
       "      <td>Test flight</td>\n",
       "      <td>5.0</td>\n",
       "      <td>5.0</td>\n",
       "      <td>1393 days 13:12:00</td>\n",
       "    </tr>\n",
       "    <tr>\n",
       "      <th>2</th>\n",
       "      <td>1913-08-06 00:00:00</td>\n",
       "      <td>1913</td>\n",
       "      <td>PRIVATE</td>\n",
       "      <td>Curtiss seaplane</td>\n",
       "      <td>NaN</td>\n",
       "      <td>1.0</td>\n",
       "      <td>1.0</td>\n",
       "      <td>389 days 17:30:00</td>\n",
       "    </tr>\n",
       "    <tr>\n",
       "      <th>3</th>\n",
       "      <td>1913-09-09 18:30:00</td>\n",
       "      <td>1913</td>\n",
       "      <td>MILITARY - GERMAN NAVY</td>\n",
       "      <td>Zeppelin L-1 (airship)</td>\n",
       "      <td>NaN</td>\n",
       "      <td>20.0</td>\n",
       "      <td>14.0</td>\n",
       "      <td>34 days 18:30:00</td>\n",
       "    </tr>\n",
       "    <tr>\n",
       "      <th>4</th>\n",
       "      <td>1913-10-17 10:30:00</td>\n",
       "      <td>1913</td>\n",
       "      <td>MILITARY - GERMAN NAVY</td>\n",
       "      <td>Zeppelin L-2 (airship)</td>\n",
       "      <td>NaN</td>\n",
       "      <td>30.0</td>\n",
       "      <td>30.0</td>\n",
       "      <td>37 days 16:00:00</td>\n",
       "    </tr>\n",
       "  </tbody>\n",
       "</table>\n",
       "</div>"
      ],
      "text/plain": [
       "                 Date  Year                Operator                    Type  \\\n",
       "0 1908-09-17 17:18:00  1908    MILITARY - U.S. ARMY        Wright Flyer III   \n",
       "1 1912-07-12 06:30:00  1912    MILITARY - U.S. NAVY               Dirigible   \n",
       "2 1913-08-06 00:00:00  1913                 PRIVATE        Curtiss seaplane   \n",
       "3 1913-09-09 18:30:00  1913  MILITARY - GERMAN NAVY  Zeppelin L-1 (airship)   \n",
       "4 1913-10-17 10:30:00  1913  MILITARY - GERMAN NAVY  Zeppelin L-2 (airship)   \n",
       "\n",
       "           Route  Aboard  Fatalities              Delta  \n",
       "0  Demonstration     2.0         1.0                NaT  \n",
       "1    Test flight     5.0         5.0 1393 days 13:12:00  \n",
       "2            NaN     1.0         1.0  389 days 17:30:00  \n",
       "3            NaN    20.0        14.0   34 days 18:30:00  \n",
       "4            NaN    30.0        30.0   37 days 16:00:00  "
      ]
     },
     "execution_count": 3,
     "metadata": {},
     "output_type": "execute_result"
    }
   ],
   "source": [
    "T['Date'] = pd.to_datetime(T['Date'])\n",
    "\n",
    "T['Delta'] = T['Date'].diff()\n",
    "T.head()"
   ]
  },
  {
   "cell_type": "markdown",
   "metadata": {},
   "source": [
    "On voit qu'il y a eu 1393 jours d'attente entre les 2 premiers crashs d'avions"
   ]
  },
  {
   "cell_type": "code",
   "execution_count": 4,
   "metadata": {},
   "outputs": [
    {
     "data": {
      "text/html": [
       "<div>\n",
       "<style scoped>\n",
       "    .dataframe tbody tr th:only-of-type {\n",
       "        vertical-align: middle;\n",
       "    }\n",
       "\n",
       "    .dataframe tbody tr th {\n",
       "        vertical-align: top;\n",
       "    }\n",
       "\n",
       "    .dataframe thead th {\n",
       "        text-align: right;\n",
       "    }\n",
       "</style>\n",
       "<table border=\"1\" class=\"dataframe\">\n",
       "  <thead>\n",
       "    <tr style=\"text-align: right;\">\n",
       "      <th></th>\n",
       "      <th>Date</th>\n",
       "      <th>Year</th>\n",
       "      <th>Operator</th>\n",
       "      <th>Type</th>\n",
       "      <th>Route</th>\n",
       "      <th>Aboard</th>\n",
       "      <th>Fatalities</th>\n",
       "      <th>Delta</th>\n",
       "    </tr>\n",
       "  </thead>\n",
       "  <tbody>\n",
       "    <tr>\n",
       "      <th>5028</th>\n",
       "      <td>2005-01-13 05:20:00</td>\n",
       "      <td>2005</td>\n",
       "      <td>MILITARY - COLOMBIAN GOVERNMENT</td>\n",
       "      <td>Black Hawk helicopter</td>\n",
       "      <td>NaN</td>\n",
       "      <td>20.0</td>\n",
       "      <td>20.0</td>\n",
       "      <td>32 days 23:50:00</td>\n",
       "    </tr>\n",
       "    <tr>\n",
       "      <th>5029</th>\n",
       "      <td>2005-01-13 13:20:00</td>\n",
       "      <td>2005</td>\n",
       "      <td>TURA AIR ENTERPRISE</td>\n",
       "      <td>Antonov AN-2</td>\n",
       "      <td>Vanavara - Tura</td>\n",
       "      <td>9.0</td>\n",
       "      <td>9.0</td>\n",
       "      <td>0 days 08:00:00</td>\n",
       "    </tr>\n",
       "    <tr>\n",
       "      <th>5030</th>\n",
       "      <td>2005-01-13 22:18:00</td>\n",
       "      <td>2005</td>\n",
       "      <td>AIRNOW</td>\n",
       "      <td>Embraer EMB-110 Bandeirante</td>\n",
       "      <td>Bangor, ME - Concord, NH</td>\n",
       "      <td>1.0</td>\n",
       "      <td>1.0</td>\n",
       "      <td>0 days 08:58:00</td>\n",
       "    </tr>\n",
       "    <tr>\n",
       "      <th>5031</th>\n",
       "      <td>2005-01-26 01:20:00</td>\n",
       "      <td>2005</td>\n",
       "      <td>MILITARY - U.S. MARINES</td>\n",
       "      <td>CH53E Sea Stallion</td>\n",
       "      <td>Ferrying troops</td>\n",
       "      <td>31.0</td>\n",
       "      <td>31.0</td>\n",
       "      <td>12 days 03:02:00</td>\n",
       "    </tr>\n",
       "    <tr>\n",
       "      <th>5032</th>\n",
       "      <td>2005-01-27 08:10:00</td>\n",
       "      <td>2005</td>\n",
       "      <td>FARNAIR HUNGARY</td>\n",
       "      <td>Let 410UVP-E4</td>\n",
       "      <td>Bucharest -Lasi</td>\n",
       "      <td>2.0</td>\n",
       "      <td>2.0</td>\n",
       "      <td>1 days 06:50:00</td>\n",
       "    </tr>\n",
       "    <tr>\n",
       "      <th>...</th>\n",
       "      <td>...</td>\n",
       "      <td>...</td>\n",
       "      <td>...</td>\n",
       "      <td>...</td>\n",
       "      <td>...</td>\n",
       "      <td>...</td>\n",
       "      <td>...</td>\n",
       "      <td>...</td>\n",
       "    </tr>\n",
       "    <tr>\n",
       "      <th>5177</th>\n",
       "      <td>2007-11-08 08:00:00</td>\n",
       "      <td>2007</td>\n",
       "      <td>JUBA AIR CARGO</td>\n",
       "      <td>Antonov 12</td>\n",
       "      <td>Khartoum - Juba</td>\n",
       "      <td>4.0</td>\n",
       "      <td>0.0</td>\n",
       "      <td>3 days 17:50:00</td>\n",
       "    </tr>\n",
       "    <tr>\n",
       "      <th>5178</th>\n",
       "      <td>2007-11-30 01:36:00</td>\n",
       "      <td>2007</td>\n",
       "      <td>ATLASJET AIRLINES</td>\n",
       "      <td>McDonnell Douglas MD-83</td>\n",
       "      <td>Istanbul - Isparta</td>\n",
       "      <td>57.0</td>\n",
       "      <td>57.0</td>\n",
       "      <td>21 days 17:36:00</td>\n",
       "    </tr>\n",
       "    <tr>\n",
       "      <th>5179</th>\n",
       "      <td>2007-12-03 17:18:00</td>\n",
       "      <td>2007</td>\n",
       "      <td>EVERGREEN ALASKA HELICOPTERS, INC.</td>\n",
       "      <td>Eurocopter Deutschland BK117C1</td>\n",
       "      <td>Cordova - Ancorage</td>\n",
       "      <td>4.0</td>\n",
       "      <td>4.0</td>\n",
       "      <td>3 days 15:42:00</td>\n",
       "    </tr>\n",
       "    <tr>\n",
       "      <th>5180</th>\n",
       "      <td>2007-12-05 06:48:00</td>\n",
       "      <td>2007</td>\n",
       "      <td>CASTLE AVIATION</td>\n",
       "      <td>Cessna 208B Caravan I Super Cargomaster</td>\n",
       "      <td>Columbus, OH - Buffalo, NY</td>\n",
       "      <td>2.0</td>\n",
       "      <td>2.0</td>\n",
       "      <td>1 days 13:30:00</td>\n",
       "    </tr>\n",
       "    <tr>\n",
       "      <th>5181</th>\n",
       "      <td>2007-12-09 17:00:00</td>\n",
       "      <td>2007</td>\n",
       "      <td>FUN AIR</td>\n",
       "      <td>Beechcraft King Air C90B</td>\n",
       "      <td>HradeKrálové - Kiev</td>\n",
       "      <td>5.0</td>\n",
       "      <td>5.0</td>\n",
       "      <td>4 days 10:12:00</td>\n",
       "    </tr>\n",
       "  </tbody>\n",
       "</table>\n",
       "<p>154 rows × 8 columns</p>\n",
       "</div>"
      ],
      "text/plain": [
       "                    Date  Year                            Operator  \\\n",
       "5028 2005-01-13 05:20:00  2005     MILITARY - COLOMBIAN GOVERNMENT   \n",
       "5029 2005-01-13 13:20:00  2005                 TURA AIR ENTERPRISE   \n",
       "5030 2005-01-13 22:18:00  2005                              AIRNOW   \n",
       "5031 2005-01-26 01:20:00  2005             MILITARY - U.S. MARINES   \n",
       "5032 2005-01-27 08:10:00  2005                     FARNAIR HUNGARY   \n",
       "...                  ...   ...                                 ...   \n",
       "5177 2007-11-08 08:00:00  2007                      JUBA AIR CARGO   \n",
       "5178 2007-11-30 01:36:00  2007                   ATLASJET AIRLINES   \n",
       "5179 2007-12-03 17:18:00  2007  EVERGREEN ALASKA HELICOPTERS, INC.   \n",
       "5180 2007-12-05 06:48:00  2007                     CASTLE AVIATION   \n",
       "5181 2007-12-09 17:00:00  2007                             FUN AIR   \n",
       "\n",
       "                                         Type                       Route  \\\n",
       "5028                    Black Hawk helicopter                         NaN   \n",
       "5029                             Antonov AN-2             Vanavara - Tura   \n",
       "5030              Embraer EMB-110 Bandeirante    Bangor, ME - Concord, NH   \n",
       "5031                       CH53E Sea Stallion             Ferrying troops   \n",
       "5032                            Let 410UVP-E4             Bucharest -Lasi   \n",
       "...                                       ...                         ...   \n",
       "5177                               Antonov 12             Khartoum - Juba   \n",
       "5178                  McDonnell Douglas MD-83          Istanbul - Isparta   \n",
       "5179           Eurocopter Deutschland BK117C1          Cordova - Ancorage   \n",
       "5180  Cessna 208B Caravan I Super Cargomaster  Columbus, OH - Buffalo, NY   \n",
       "5181                 Beechcraft King Air C90B         HradeKrálové - Kiev   \n",
       "\n",
       "      Aboard  Fatalities            Delta  \n",
       "5028    20.0        20.0 32 days 23:50:00  \n",
       "5029     9.0         9.0  0 days 08:00:00  \n",
       "5030     1.0         1.0  0 days 08:58:00  \n",
       "5031    31.0        31.0 12 days 03:02:00  \n",
       "5032     2.0         2.0  1 days 06:50:00  \n",
       "...      ...         ...              ...  \n",
       "5177     4.0         0.0  3 days 17:50:00  \n",
       "5178    57.0        57.0 21 days 17:36:00  \n",
       "5179     4.0         4.0  3 days 15:42:00  \n",
       "5180     2.0         2.0  1 days 13:30:00  \n",
       "5181     5.0         5.0  4 days 10:12:00  \n",
       "\n",
       "[154 rows x 8 columns]"
      ]
     },
     "execution_count": 4,
     "metadata": {},
     "output_type": "execute_result"
    }
   ],
   "source": [
    "S = T.query('Year in [2005, 2006, 2007]')\n",
    "S #Représente les crashs ayant eu lieu entre 2005 et 2007"
   ]
  },
  {
   "cell_type": "markdown",
   "metadata": {},
   "source": [
    "Il y a eu 154 accidents entre 2005 et 2007"
   ]
  },
  {
   "cell_type": "code",
   "execution_count": 5,
   "metadata": {},
   "outputs": [
    {
     "data": {
      "text/plain": [
       "5028    32.993056\n",
       "5029     0.333333\n",
       "5030     0.373611\n",
       "5031    12.126389\n",
       "5032     1.284722\n",
       "          ...    \n",
       "5177     3.743056\n",
       "5178    21.733333\n",
       "5179     3.654167\n",
       "5180     1.562500\n",
       "5181     4.425000\n",
       "Name: Delta, Length: 154, dtype: float64"
      ]
     },
     "execution_count": 5,
     "metadata": {},
     "output_type": "execute_result"
    }
   ],
   "source": [
    "D = S['Delta'].dt.days + S['Delta'].dt.seconds / (24*3600)\n",
    "D"
   ]
  },
  {
   "cell_type": "markdown",
   "metadata": {},
   "source": [
    "## Etape 2 : Modélisation du temps d'attente "
   ]
  },
  {
   "cell_type": "markdown",
   "metadata": {},
   "source": [
    "Le temps d'attente entre deux accidents consécutifs (survenus de 2005 à 2007) est modélise par la variable aléatoire X. La colonne D contient des valeurs prises par X."
   ]
  },
  {
   "cell_type": "markdown",
   "metadata": {},
   "source": [
    "#### Histogramme des fréquences du temps d'attente"
   ]
  },
  {
   "cell_type": "code",
   "execution_count": 6,
   "metadata": {},
   "outputs": [
    {
     "data": {
      "image/png": "[encoded data removed]",
      "text/plain": [
       "<Figure size 432x288 with 1 Axes>"
      ]
     },
     "metadata": {
      "needs_background": "light"
     },
     "output_type": "display_data"
    }
   ],
   "source": [
    "pl.hist(D, density=True)\n",
    "pl.show()"
   ]
  },
  {
   "cell_type": "markdown",
   "metadata": {},
   "source": [
    "#### Ajustement de l'histogramme"
   ]
  },
  {
   "cell_type": "code",
   "execution_count": 7,
   "metadata": {},
   "outputs": [],
   "source": [
    "from math import exp\n",
    "from ipywidgets import interact"
   ]
  },
  {
   "cell_type": "markdown",
   "metadata": {},
   "source": [
    "On suppose que X suive une loi exponentielle de paramètre 'alpha'\n",
    "Sa densité = 'alpha'* exp(-'alpha'* x)"
   ]
  },
  {
   "cell_type": "code",
   "execution_count": 8,
   "metadata": {},
   "outputs": [],
   "source": [
    "def densite(x, a):\n",
    "    f = a*exp(-a*x)\n",
    "    return f"
   ]
  },
  {
   "cell_type": "code",
   "execution_count": 9,
   "metadata": {},
   "outputs": [],
   "source": [
    "def plot(a):\n",
    "    pl.hist(D, density=True, color='white', edgecolor = 'black')\n",
    "    X = [k/10 for k in range(501)]\n",
    "    Y = [densite(x,a) for x in X]\n",
    "    pl.plot(X, Y, color='red')"
   ]
  },
  {
   "cell_type": "code",
   "execution_count": 10,
   "metadata": {},
   "outputs": [
    {
     "data": {
      "application/vnd.jupyter.widget-view+json": {
       "model_id": "ef08433dd193449ba03c879fff1d7f98",
       "version_major": 2,
       "version_minor": 0
      },
      "text/plain": [
       "interactive(children=(FloatSlider(value=0.08, description='a', max=0.16, step=0.01), Output()), _dom_classes=(…"
      ]
     },
     "metadata": {},
     "output_type": "display_data"
    },
    {
     "data": {
      "text/plain": [
       "<function __main__.plot(a)>"
      ]
     },
     "execution_count": 10,
     "metadata": {},
     "output_type": "execute_result"
    }
   ],
   "source": [
    "interact(plot, a=(0,0.16, 0.01))"
   ]
  },
  {
   "cell_type": "markdown",
   "metadata": {},
   "source": [
    "On choisit a entre 0.13 et 0.16"
   ]
  },
  {
   "cell_type": "markdown",
   "metadata": {},
   "source": [
    "#### Une proposition pour calculer a"
   ]
  },
  {
   "cell_type": "code",
   "execution_count": 11,
   "metadata": {},
   "outputs": [
    {
     "name": "stdout",
     "output_type": "stream",
     "text": [
      "La moyenne des temps d'attentes est 7.100514069264069\n"
     ]
    }
   ],
   "source": [
    "print(\"La moyenne des temps d'attentes est\", D.mean())\n",
    "m = D.mean()"
   ]
  },
  {
   "cell_type": "markdown",
   "metadata": {},
   "source": [
    "Selon la loi normale, E[T] = m\n",
    "\n",
    "Or pour la loi expo, E[T] = 1/a\n",
    "\n",
    "Donc si m = 1/a, on a :"
   ]
  },
  {
   "cell_type": "code",
   "execution_count": 12,
   "metadata": {},
   "outputs": [
    {
     "name": "stdout",
     "output_type": "stream",
     "text": [
      "a = 0.14083487339722217\n"
     ]
    }
   ],
   "source": [
    "print('a =', 1/m)\n",
    "a = 1/m"
   ]
  },
  {
   "cell_type": "markdown",
   "metadata": {},
   "source": [
    "#### Calculs de probabilité selon cette loi"
   ]
  },
  {
   "cell_type": "markdown",
   "metadata": {},
   "source": [
    "P(T>=30) = 1-P(T<=30) = exp(-30*a)"
   ]
  },
  {
   "cell_type": "code",
   "execution_count": 13,
   "metadata": {},
   "outputs": [
    {
     "name": "stdout",
     "output_type": "stream",
     "text": [
      "La probabilité qu'il y ait plus de 30 jours entre 2 crash est 0.014624659006708264\n"
     ]
    }
   ],
   "source": [
    "print(\"La probabilité qu'il y ait plus de 30 jours entre 2 crash est\", exp(-30*a))"
   ]
  },
  {
   "cell_type": "markdown",
   "metadata": {},
   "source": [
    "P(T<=1) = 1 - exp(-a)"
   ]
  },
  {
   "cell_type": "code",
   "execution_count": 14,
   "metadata": {},
   "outputs": [
    {
     "name": "stdout",
     "output_type": "stream",
     "text": [
      "La probabilité que 2 crashs se passent le même jour est 0.13136726577163083\n"
     ]
    }
   ],
   "source": [
    "print(\"La probabilité que 2 crashs se passent le même jour est\", 1-exp(-a))"
   ]
  },
  {
   "cell_type": "markdown",
   "metadata": {},
   "source": [
    "## Etape 3 : Nombre de temps d'attente inférieurs à 24h"
   ]
  },
  {
   "cell_type": "code",
   "execution_count": 15,
   "metadata": {},
   "outputs": [
    {
     "data": {
      "text/plain": [
       "5028    False\n",
       "5029     True\n",
       "5030     True\n",
       "5031    False\n",
       "5032    False\n",
       "        ...  \n",
       "5177    False\n",
       "5178    False\n",
       "5179    False\n",
       "5180    False\n",
       "5181    False\n",
       "Name: Delta, Length: 154, dtype: bool"
      ]
     },
     "execution_count": 15,
     "metadata": {},
     "output_type": "execute_result"
    }
   ],
   "source": [
    "D <= 1"
   ]
  },
  {
   "cell_type": "markdown",
   "metadata": {},
   "source": [
    "Celà nous renvoie si le temps d'attente entre 2 crashs est inférieur à 1 jour"
   ]
  },
  {
   "cell_type": "code",
   "execution_count": 16,
   "metadata": {},
   "outputs": [
    {
     "data": {
      "text/plain": [
       "15"
      ]
     },
     "execution_count": 16,
     "metadata": {},
     "output_type": "execute_result"
    }
   ],
   "source": [
    "list(D<1).count(True)"
   ]
  },
  {
   "cell_type": "markdown",
   "metadata": {},
   "source": [
    "Il y a eu 15 temps d'attente inférieur à 24h."
   ]
  },
  {
   "cell_type": "markdown",
   "metadata": {},
   "source": [
    "## Etape 4 : Vraisemblance d'obtenir au moins 15 temps d'attente inférieur à 24h"
   ]
  },
  {
   "cell_type": "markdown",
   "metadata": {},
   "source": [
    "Modèle : Un crash d'avion s'est produit\n",
    "- A chaque heure qui suit, il se produit un nouveau crash ou non.\n",
    "- On fait l'hypothèse qu'il ne se produira pas deux crashs durant la même heure.\n",
    "\n",
    "On note X le temps d'attente, compté en heure, avant le prochain crash d'avion."
   ]
  },
  {
   "cell_type": "code",
   "execution_count": 25,
   "metadata": {},
   "outputs": [
    {
     "name": "stdout",
     "output_type": "stream",
     "text": [
      "La probabilité que deux crashs aient lieu en moins d'une heure est 0.005859969558599696\n"
     ]
    }
   ],
   "source": [
    "p = 154/(365*3*24)\n",
    "print(\"La probabilité que deux crashs aient lieu en moins d'une heure est\", p)"
   ]
  },
  {
   "cell_type": "markdown",
   "metadata": {},
   "source": [
    "#### Simulation de X"
   ]
  },
  {
   "cell_type": "code",
   "execution_count": 26,
   "metadata": {},
   "outputs": [],
   "source": [
    "from random import random"
   ]
  },
  {
   "cell_type": "code",
   "execution_count": 27,
   "metadata": {},
   "outputs": [],
   "source": [
    "def temps():\n",
    "    h = 1\n",
    "    while random() > p:\n",
    "        h=h+1\n",
    "    return h"
   ]
  },
  {
   "cell_type": "markdown",
   "metadata": {},
   "source": [
    "#### Loi de probabilité de X"
   ]
  },
  {
   "cell_type": "markdown",
   "metadata": {},
   "source": [
    "X suit une loi de Bernouilli de paramètre p (~0.006)"
   ]
  },
  {
   "cell_type": "markdown",
   "metadata": {},
   "source": [
    "P(X<=24) = SOMME(P(X=k)) pour k allant de 1 à 24\n",
    "\n",
    "= SOMME(p*q^k-1) pour k allant de 1 à 24 et q = 1-p\n",
    "\n",
    "= p*SOMME(q^k-1)\n",
    "\n",
    "= p*(1-q^24)/(1-q) or 1-q = p\n",
    "\n",
    "= 1-q^24"
   ]
  },
  {
   "cell_type": "code",
   "execution_count": 35,
   "metadata": {},
   "outputs": [
    {
     "data": {
      "text/plain": [
       "0.13155667988918907"
      ]
     },
     "execution_count": 35,
     "metadata": {},
     "output_type": "execute_result"
    }
   ],
   "source": [
    "q = 1-p\n",
    "1-q**24"
   ]
  },
  {
   "cell_type": "code",
   "execution_count": 50,
   "metadata": {},
   "outputs": [],
   "source": [
    "def echan():\n",
    "    n = 0\n",
    "    for k in range(154):\n",
    "        if temps() <= 24:\n",
    "            n = n+1\n",
    "    return n"
   ]
  },
  {
   "cell_type": "markdown",
   "metadata": {},
   "source": [
    "On simule 10000 séries de 154 réalisations de X"
   ]
  },
  {
   "cell_type": "code",
   "execution_count": 52,
   "metadata": {},
   "outputs": [],
   "source": [
    "def vraisemblance():\n",
    "    n = 0\n",
    "    for k in range(10000):\n",
    "        if echan()>15:\n",
    "            n=n+1\n",
    "    return n/10000"
   ]
  },
  {
   "cell_type": "code",
   "execution_count": 53,
   "metadata": {},
   "outputs": [
    {
     "data": {
      "text/plain": [
       "0.8724"
      ]
     },
     "execution_count": 53,
     "metadata": {},
     "output_type": "execute_result"
    }
   ],
   "source": [
    "vraisemblance()"
   ]
  },
  {
   "cell_type": "markdown",
   "metadata": {},
   "source": [
    "On a environ 87% de chance d'observe au moins 15 temps d'attente inférieurs à 24h sur une série de 154 donc l'évènement a de fortes chances de se passer."
   ]
  },
  {
   "cell_type": "code",
   "execution_count": null,
   "metadata": {},
   "outputs": [],
   "source": []
  }
 ],
 "metadata": {
  "kernelspec": {
   "display_name": "Python 3",
   "language": "python",
   "name": "python3"
  },
  "language_info": {
   "codemirror_mode": {
    "name": "ipython",
    "version": 3
   },
   "file_extension": ".py",
   "mimetype": "text/x-python",
   "name": "python",
   "nbconvert_exporter": "python",
   "pygments_lexer": "ipython3",
   "version": "3.8.5"
  }
 },
 "nbformat": 4,
 "nbformat_minor": 4
}
